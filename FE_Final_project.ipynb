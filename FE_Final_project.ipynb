{
 "cells": [
  {
   "cell_type": "markdown",
   "metadata": {},
   "source": [
    "# Итоговая работа"
   ]
  },
  {
   "cell_type": "code",
   "execution_count": 80,
   "metadata": {},
   "outputs": [],
   "source": [
    "from sklearn.datasets import load_boston\n",
    "\n",
    "import pandas as pd\n",
    "import numpy as np\n",
    "import seaborn as sns\n",
    "from matplotlib import pyplot as plt\n",
    "\n",
    "from sklearn.linear_model import LinearRegression\n",
    "from sklearn.ensemble import RandomForestClassifier\n",
    "from xgboost import XGBClassifier\n",
    "from sklearn.model_selection import train_test_split\n",
    "from sklearn.metrics import mean_absolute_error\n",
    "from sklearn.preprocessing import MinMaxScaler\n",
    "from sklearn.model_selection import GridSearchCV\n",
    "from numpy import sort\n",
    "from sklearn.metrics import accuracy_score\n",
    "from sklearn.feature_selection import SelectFromModel\n",
    "\n",
    "import math\n",
    "\n",
    "import itertools as it"
   ]
  },
  {
   "cell_type": "markdown",
   "metadata": {},
   "source": [
    "Чек-лист:\n",
    "1. Загрузите датасет taxi.csv.\n",
    "2. Посмотрите на данные. Отобразите общую информацию по признакам (вспомните о describe и info). Напишите в markdown свои наблюдения.\n",
    "3. Выявите пропуски, а также возможные причины их возникновения. Решите, что следует сделать с ними. Напишите в markdown свои наблюдения.\n",
    "4. Оцените зависимости переменных между собой. Используйте корреляции. Будет хорошо, если воспользуетесь profile_report. Напишите в markdown свои наблюдения.\n",
    "5. Определите стратегию преобразования категориальных признаков (т.е. как их сделать адекватными для моделей).\n",
    "6. Найдите признаки, которые можно разделить на другие, или преобразовать в другой тип данных. Удалите лишние, при необходимости.\n",
    "7. Разделите выборку на обучаемую и тестовую.\n",
    "8. Обучите модель. Напишите в markdown свои наблюдения по полученным результатам. Хорошие результаты дают классификаторы RandomForest и XGBoost"
   ]
  },
  {
   "cell_type": "code",
   "execution_count": 81,
   "metadata": {},
   "outputs": [],
   "source": [
    "data = pd.read_csv('taxi.csv')"
   ]
  },
  {
   "cell_type": "code",
   "execution_count": 82,
   "metadata": {},
   "outputs": [
    {
     "data": {
      "text/html": [
       "<div>\n",
       "<style scoped>\n",
       "    .dataframe tbody tr th:only-of-type {\n",
       "        vertical-align: middle;\n",
       "    }\n",
       "\n",
       "    .dataframe tbody tr th {\n",
       "        vertical-align: top;\n",
       "    }\n",
       "\n",
       "    .dataframe thead th {\n",
       "        text-align: right;\n",
       "    }\n",
       "</style>\n",
       "<table border=\"1\" class=\"dataframe\">\n",
       "  <thead>\n",
       "    <tr style=\"text-align: right;\">\n",
       "      <th></th>\n",
       "      <th>offer_gk</th>\n",
       "      <th>weekday_key</th>\n",
       "      <th>hour_key</th>\n",
       "      <th>driver_gk</th>\n",
       "      <th>order_gk</th>\n",
       "      <th>driver_latitude</th>\n",
       "      <th>driver_longitude</th>\n",
       "      <th>origin_order_latitude</th>\n",
       "      <th>origin_order_longitude</th>\n",
       "      <th>distance_km</th>\n",
       "      <th>duration_min</th>\n",
       "      <th>offer_class_group</th>\n",
       "      <th>ride_type_desc</th>\n",
       "      <th>driver_response</th>\n",
       "    </tr>\n",
       "  </thead>\n",
       "  <tbody>\n",
       "    <tr>\n",
       "      <th>0</th>\n",
       "      <td>1105373</td>\n",
       "      <td>5</td>\n",
       "      <td>20</td>\n",
       "      <td>6080</td>\n",
       "      <td>174182</td>\n",
       "      <td>55.818842</td>\n",
       "      <td>37.334562</td>\n",
       "      <td>55.814567</td>\n",
       "      <td>37.355010</td>\n",
       "      <td>-1.000</td>\n",
       "      <td>-1.000</td>\n",
       "      <td>Economy</td>\n",
       "      <td>private</td>\n",
       "      <td>0</td>\n",
       "    </tr>\n",
       "    <tr>\n",
       "      <th>1</th>\n",
       "      <td>759733</td>\n",
       "      <td>5</td>\n",
       "      <td>14</td>\n",
       "      <td>6080</td>\n",
       "      <td>358774</td>\n",
       "      <td>55.805342</td>\n",
       "      <td>37.515023</td>\n",
       "      <td>55.819329</td>\n",
       "      <td>37.466398</td>\n",
       "      <td>18.802</td>\n",
       "      <td>25.217</td>\n",
       "      <td>Standard</td>\n",
       "      <td>private</td>\n",
       "      <td>1</td>\n",
       "    </tr>\n",
       "    <tr>\n",
       "      <th>2</th>\n",
       "      <td>416977</td>\n",
       "      <td>6</td>\n",
       "      <td>14</td>\n",
       "      <td>6080</td>\n",
       "      <td>866260</td>\n",
       "      <td>55.813978</td>\n",
       "      <td>37.347688</td>\n",
       "      <td>55.814827</td>\n",
       "      <td>37.354074</td>\n",
       "      <td>6.747</td>\n",
       "      <td>9.800</td>\n",
       "      <td>Economy</td>\n",
       "      <td>private</td>\n",
       "      <td>0</td>\n",
       "    </tr>\n",
       "    <tr>\n",
       "      <th>3</th>\n",
       "      <td>889660</td>\n",
       "      <td>2</td>\n",
       "      <td>6</td>\n",
       "      <td>6080</td>\n",
       "      <td>163522</td>\n",
       "      <td>55.745922</td>\n",
       "      <td>37.421748</td>\n",
       "      <td>55.743469</td>\n",
       "      <td>37.431130</td>\n",
       "      <td>-1.000</td>\n",
       "      <td>-1.000</td>\n",
       "      <td>Economy</td>\n",
       "      <td>private</td>\n",
       "      <td>1</td>\n",
       "    </tr>\n",
       "    <tr>\n",
       "      <th>4</th>\n",
       "      <td>1120055</td>\n",
       "      <td>4</td>\n",
       "      <td>16</td>\n",
       "      <td>6080</td>\n",
       "      <td>506710</td>\n",
       "      <td>55.803578</td>\n",
       "      <td>37.521602</td>\n",
       "      <td>55.812559</td>\n",
       "      <td>37.527407</td>\n",
       "      <td>12.383</td>\n",
       "      <td>19.250</td>\n",
       "      <td>Economy</td>\n",
       "      <td>private</td>\n",
       "      <td>1</td>\n",
       "    </tr>\n",
       "  </tbody>\n",
       "</table>\n",
       "</div>"
      ],
      "text/plain": [
       "   offer_gk  weekday_key  hour_key  driver_gk  order_gk  driver_latitude  \\\n",
       "0   1105373            5        20       6080    174182        55.818842   \n",
       "1    759733            5        14       6080    358774        55.805342   \n",
       "2    416977            6        14       6080    866260        55.813978   \n",
       "3    889660            2         6       6080    163522        55.745922   \n",
       "4   1120055            4        16       6080    506710        55.803578   \n",
       "\n",
       "   driver_longitude  origin_order_latitude  origin_order_longitude  \\\n",
       "0         37.334562              55.814567               37.355010   \n",
       "1         37.515023              55.819329               37.466398   \n",
       "2         37.347688              55.814827               37.354074   \n",
       "3         37.421748              55.743469               37.431130   \n",
       "4         37.521602              55.812559               37.527407   \n",
       "\n",
       "   distance_km  duration_min offer_class_group ride_type_desc  driver_response  \n",
       "0       -1.000        -1.000           Economy        private                0  \n",
       "1       18.802        25.217          Standard        private                1  \n",
       "2        6.747         9.800           Economy        private                0  \n",
       "3       -1.000        -1.000           Economy        private                1  \n",
       "4       12.383        19.250           Economy        private                1  "
      ]
     },
     "execution_count": 82,
     "metadata": {},
     "output_type": "execute_result"
    }
   ],
   "source": [
    "data.head()"
   ]
  },
  {
   "cell_type": "markdown",
   "metadata": {},
   "source": [
    "#### Описание датасета\n",
    "- offer_gk – unique offer identifier\n",
    "- weekday_key – day of week number (Sunday = 0, Monday = 1, etc.)\n",
    "- hour_key – hour of day representing an hour part of datetime (value from 0 to 23)\n",
    "- driver_gk – unique driver identifier\n",
    "- order_gk – unique order identifier. Order may have multiple offers\n",
    "- driver_latitude – latitude of driver at the time of getting an offer \n",
    "- driver_longitude – longitude of driver at the time of receiving an offer\n",
    "- origin_order_latitude – latitude of the order start location at the time of receiving an offer\n",
    "- origin_order_longitude – longitude of the order start location at the moment of receiving an offer\n",
    "- distance_km – estimated distance from origin to destination in kilometres. Value -1 means that the - destination is not set\n",
    "- duration_min – estimated duration from origin to destination in minutes. Value -1 means that the destination is not set\n",
    "- offer_class_group – class of the order, e.g. Economy, Business, XL\n",
    "- ride_type_desc – private or business order attribute\n",
    "- driver_response – driver choice of whether to accept the offer or not"
   ]
  },
  {
   "cell_type": "code",
   "execution_count": 83,
   "metadata": {
    "scrolled": false
   },
   "outputs": [
    {
     "data": {
      "text/plain": [
       "(100000, 14)"
      ]
     },
     "execution_count": 83,
     "metadata": {},
     "output_type": "execute_result"
    }
   ],
   "source": [
    "data.shape"
   ]
  },
  {
   "cell_type": "code",
   "execution_count": 84,
   "metadata": {},
   "outputs": [
    {
     "data": {
      "text/html": [
       "<div>\n",
       "<style scoped>\n",
       "    .dataframe tbody tr th:only-of-type {\n",
       "        vertical-align: middle;\n",
       "    }\n",
       "\n",
       "    .dataframe tbody tr th {\n",
       "        vertical-align: top;\n",
       "    }\n",
       "\n",
       "    .dataframe thead th {\n",
       "        text-align: right;\n",
       "    }\n",
       "</style>\n",
       "<table border=\"1\" class=\"dataframe\">\n",
       "  <thead>\n",
       "    <tr style=\"text-align: right;\">\n",
       "      <th></th>\n",
       "      <th>count</th>\n",
       "      <th>mean</th>\n",
       "      <th>std</th>\n",
       "      <th>min</th>\n",
       "      <th>25%</th>\n",
       "      <th>50%</th>\n",
       "      <th>75%</th>\n",
       "      <th>max</th>\n",
       "    </tr>\n",
       "  </thead>\n",
       "  <tbody>\n",
       "    <tr>\n",
       "      <th>weekday_key</th>\n",
       "      <td>100000.0</td>\n",
       "      <td>3.159860</td>\n",
       "      <td>2.054222</td>\n",
       "      <td>0.0</td>\n",
       "      <td>1.0</td>\n",
       "      <td>3.0000</td>\n",
       "      <td>5.00000</td>\n",
       "      <td>6.000</td>\n",
       "    </tr>\n",
       "    <tr>\n",
       "      <th>hour_key</th>\n",
       "      <td>100000.0</td>\n",
       "      <td>13.827790</td>\n",
       "      <td>7.306496</td>\n",
       "      <td>0.0</td>\n",
       "      <td>8.0</td>\n",
       "      <td>16.0000</td>\n",
       "      <td>20.00000</td>\n",
       "      <td>23.000</td>\n",
       "    </tr>\n",
       "    <tr>\n",
       "      <th>distance_km</th>\n",
       "      <td>100000.0</td>\n",
       "      <td>18.393518</td>\n",
       "      <td>41.129296</td>\n",
       "      <td>-1.0</td>\n",
       "      <td>-1.0</td>\n",
       "      <td>10.4115</td>\n",
       "      <td>30.66525</td>\n",
       "      <td>5234.283</td>\n",
       "    </tr>\n",
       "    <tr>\n",
       "      <th>duration_min</th>\n",
       "      <td>100000.0</td>\n",
       "      <td>23.134841</td>\n",
       "      <td>33.890105</td>\n",
       "      <td>-1.0</td>\n",
       "      <td>-1.0</td>\n",
       "      <td>19.7000</td>\n",
       "      <td>37.86700</td>\n",
       "      <td>3958.283</td>\n",
       "    </tr>\n",
       "    <tr>\n",
       "      <th>driver_response</th>\n",
       "      <td>100000.0</td>\n",
       "      <td>0.492480</td>\n",
       "      <td>0.499946</td>\n",
       "      <td>0.0</td>\n",
       "      <td>0.0</td>\n",
       "      <td>0.0000</td>\n",
       "      <td>1.00000</td>\n",
       "      <td>1.000</td>\n",
       "    </tr>\n",
       "  </tbody>\n",
       "</table>\n",
       "</div>"
      ],
      "text/plain": [
       "                    count       mean        std  min  25%      50%       75%  \\\n",
       "weekday_key      100000.0   3.159860   2.054222  0.0  1.0   3.0000   5.00000   \n",
       "hour_key         100000.0  13.827790   7.306496  0.0  8.0  16.0000  20.00000   \n",
       "distance_km      100000.0  18.393518  41.129296 -1.0 -1.0  10.4115  30.66525   \n",
       "duration_min     100000.0  23.134841  33.890105 -1.0 -1.0  19.7000  37.86700   \n",
       "driver_response  100000.0   0.492480   0.499946  0.0  0.0   0.0000   1.00000   \n",
       "\n",
       "                      max  \n",
       "weekday_key         6.000  \n",
       "hour_key           23.000  \n",
       "distance_km      5234.283  \n",
       "duration_min     3958.283  \n",
       "driver_response     1.000  "
      ]
     },
     "execution_count": 84,
     "metadata": {},
     "output_type": "execute_result"
    }
   ],
   "source": [
    "data[['weekday_key', 'hour_key', 'distance_km', 'duration_min', 'driver_response']].describe().transpose()"
   ]
  },
  {
   "cell_type": "code",
   "execution_count": 85,
   "metadata": {},
   "outputs": [
    {
     "data": {
      "text/plain": [
       "Economy     48335\n",
       "Standard    47288\n",
       "Premium      1773\n",
       "Delivery     1290\n",
       "Kids          588\n",
       "XL            464\n",
       "VIP           225\n",
       "VIP+           29\n",
       "Test            8\n",
       "Name: offer_class_group, dtype: int64"
      ]
     },
     "execution_count": 85,
     "metadata": {},
     "output_type": "execute_result"
    }
   ],
   "source": [
    "data['offer_class_group'].value_counts()"
   ]
  },
  {
   "cell_type": "code",
   "execution_count": 86,
   "metadata": {},
   "outputs": [
    {
     "data": {
      "text/plain": [
       "private      91207\n",
       "business      8533\n",
       "affiliate      224\n",
       "SMB             36\n",
       "Name: ride_type_desc, dtype: int64"
      ]
     },
     "execution_count": 86,
     "metadata": {},
     "output_type": "execute_result"
    }
   ],
   "source": [
    "data['ride_type_desc'].value_counts()"
   ]
  },
  {
   "cell_type": "code",
   "execution_count": 87,
   "metadata": {
    "scrolled": false
   },
   "outputs": [
    {
     "name": "stdout",
     "output_type": "stream",
     "text": [
      "<class 'pandas.core.frame.DataFrame'>\n",
      "RangeIndex: 100000 entries, 0 to 99999\n",
      "Data columns (total 14 columns):\n",
      "offer_gk                  100000 non-null int64\n",
      "weekday_key               100000 non-null int64\n",
      "hour_key                  100000 non-null int64\n",
      "driver_gk                 100000 non-null int64\n",
      "order_gk                  100000 non-null int64\n",
      "driver_latitude           100000 non-null float64\n",
      "driver_longitude          100000 non-null float64\n",
      "origin_order_latitude     100000 non-null float64\n",
      "origin_order_longitude    100000 non-null float64\n",
      "distance_km               100000 non-null float64\n",
      "duration_min              100000 non-null float64\n",
      "offer_class_group         100000 non-null object\n",
      "ride_type_desc            100000 non-null object\n",
      "driver_response           100000 non-null int64\n",
      "dtypes: float64(6), int64(6), object(2)\n",
      "memory usage: 10.7+ MB\n"
     ]
    }
   ],
   "source": [
    "data.info()"
   ]
  },
  {
   "cell_type": "code",
   "execution_count": 88,
   "metadata": {},
   "outputs": [
    {
     "data": {
      "text/plain": [
       "offer_gk                  0\n",
       "weekday_key               0\n",
       "hour_key                  0\n",
       "driver_gk                 0\n",
       "order_gk                  0\n",
       "driver_latitude           0\n",
       "driver_longitude          0\n",
       "origin_order_latitude     0\n",
       "origin_order_longitude    0\n",
       "distance_km               0\n",
       "duration_min              0\n",
       "offer_class_group         0\n",
       "ride_type_desc            0\n",
       "driver_response           0\n",
       "dtype: int64"
      ]
     },
     "execution_count": 88,
     "metadata": {},
     "output_type": "execute_result"
    }
   ],
   "source": [
    "data.isnull().sum()"
   ]
  },
  {
   "cell_type": "markdown",
   "metadata": {},
   "source": [
    "#### Описание наблюдений:\n",
    "- датасет представляет собой данные по заказам такси\n",
    "- всего есть информация по 100 тыс. заказов такси, по каждому из них есть 14 признаков, в том числе 3 признака - идентификатора поездки/заказа/водителя\n",
    "- есть много категориальных признаков, такие как дни недели, часы заказа, класс и тип поездки. Дни недели и часы можно будет преобразовать в несколько признаков: будни/выходные, день/ночь/вечер. Параметры класс и тип поездки так же разделить на отдельные параметры, которые будут принимать только два значения\n",
    "- есть информация о предполагаемой длительности поездки и дистанции до пункта назначения, но о дистанции между клиентом и таксистом можно судить только по координатам. Соответственно можно вычислить расстояния между ними и попытаться вычислить примерное время в пути до клиента\n",
    "- есть заказы без определенного места назначения. Возможно их придется выделить в отдельный параметр\n",
    "- пропусков нет, но есть странные значения, которые возможно нужно будет исключить после проверки. Например, дистанция поездки более 5 тыс. км, или класс поездки \"test\""
   ]
  },
  {
   "cell_type": "markdown",
   "metadata": {},
   "source": [
    "Разберемся с показателем distance_km"
   ]
  },
  {
   "cell_type": "code",
   "execution_count": 89,
   "metadata": {
    "scrolled": false
   },
   "outputs": [
    {
     "data": {
      "image/png": "[encoded data removed]",
      "text/plain": [
       "<Figure size 864x432 with 1 Axes>"
      ]
     },
     "metadata": {
      "needs_background": "light"
     },
     "output_type": "display_data"
    }
   ],
   "source": [
    "plt.figure(figsize=(12,6))\n",
    "sns.boxplot(x=data.distance_km)\n",
    "plt.show()"
   ]
  },
  {
   "cell_type": "code",
   "execution_count": 90,
   "metadata": {},
   "outputs": [
    {
     "data": {
      "text/plain": [
       "(1164, 14)"
      ]
     },
     "execution_count": 90,
     "metadata": {},
     "output_type": "execute_result"
    }
   ],
   "source": [
    "data[(data['distance_km'] > 80) | ((data['distance_km'] >= 0) & (data['distance_km'] < 1))].shape"
   ]
  },
  {
   "cell_type": "markdown",
   "metadata": {},
   "source": [
    "Есть выбросы с дистанцией поездки больше 80 км, что для городского такси выглядит странно. И с дистанцией поездки менее 1 км. Всего там 1164 значений. Предлагается их исключить."
   ]
  },
  {
   "cell_type": "code",
   "execution_count": 91,
   "metadata": {},
   "outputs": [],
   "source": [
    "data = data[data['distance_km'] <= 80]"
   ]
  },
  {
   "cell_type": "code",
   "execution_count": 92,
   "metadata": {},
   "outputs": [],
   "source": [
    "data = data.loc[~((data['distance_km'] >= 0) & (data['distance_km'] < 1))]"
   ]
  },
  {
   "cell_type": "code",
   "execution_count": 93,
   "metadata": {},
   "outputs": [
    {
     "data": {
      "text/plain": [
       "(98836, 14)"
      ]
     },
     "execution_count": 93,
     "metadata": {},
     "output_type": "execute_result"
    }
   ],
   "source": [
    "data.shape"
   ]
  },
  {
   "cell_type": "code",
   "execution_count": 94,
   "metadata": {},
   "outputs": [
    {
     "data": {
      "image/png": "[encoded data removed]",
      "text/plain": [
       "<Figure size 864x432 with 1 Axes>"
      ]
     },
     "metadata": {
      "needs_background": "light"
     },
     "output_type": "display_data"
    }
   ],
   "source": [
    "plt.figure(figsize=(12,6))\n",
    "sns.boxplot(x=data.distance_km)\n",
    "plt.show()"
   ]
  },
  {
   "cell_type": "code",
   "execution_count": 95,
   "metadata": {},
   "outputs": [
    {
     "data": {
      "image/png": "[encoded data removed]",
      "text/plain": [
       "<Figure size 720x576 with 1 Axes>"
      ]
     },
     "metadata": {
      "needs_background": "light"
     },
     "output_type": "display_data"
    }
   ],
   "source": [
    "plt.figure(figsize = (10,8))\n",
    "sns.distplot(data[data['distance_km']>0]['distance_km'], bins=300)\n",
    "plt.show()"
   ]
  },
  {
   "cell_type": "markdown",
   "metadata": {},
   "source": [
    "Существует много заказов с неопределенной дальностью поездки. Их исключать нельзя, но предлагается добавить их в отдельный признак"
   ]
  },
  {
   "cell_type": "code",
   "execution_count": 96,
   "metadata": {},
   "outputs": [],
   "source": [
    "data.loc[data['distance_km']<0, 'dist_unknown'] = 1\n",
    "data.loc[data['distance_km']>0, 'dist_unknown'] = 0"
   ]
  },
  {
   "cell_type": "markdown",
   "metadata": {},
   "source": [
    "Добавим расстояние между водителем и клиентом во время поступления заказа. Для этого создадим функцию, которая будет вычислять расстояние по координатам двух точек"
   ]
  },
  {
   "cell_type": "code",
   "execution_count": 97,
   "metadata": {},
   "outputs": [],
   "source": [
    "def dist(row):\n",
    "    R = 6373.0\n",
    "\n",
    "    lat1 = math.radians(row['driver_latitude'])\n",
    "    lon1 = math.radians(row['driver_longitude'])\n",
    "    lat2 = math.radians(row['origin_order_latitude'])\n",
    "    lon2 = math.radians(row['origin_order_longitude'])\n",
    "\n",
    "    dlon = lon2 - lon1\n",
    "    dlat = lat2 - lat1\n",
    "\n",
    "    a = math.sin(dlat / 2)**2 + math.cos(lat1) * math.cos(lat2) * math.sin(dlon / 2)**2\n",
    "    c = 2 * math.atan2(math.sqrt(a), math.sqrt(1 - a))\n",
    "    distance = R * c\n",
    "\n",
    "    return distance"
   ]
  },
  {
   "cell_type": "markdown",
   "metadata": {},
   "source": [
    "Применим функцию для датасета"
   ]
  },
  {
   "cell_type": "code",
   "execution_count": 98,
   "metadata": {},
   "outputs": [],
   "source": [
    "data['dist_driver_order'] = data.apply(dist, axis=1) "
   ]
  },
  {
   "cell_type": "code",
   "execution_count": 99,
   "metadata": {},
   "outputs": [
    {
     "data": {
      "text/html": [
       "<div>\n",
       "<style scoped>\n",
       "    .dataframe tbody tr th:only-of-type {\n",
       "        vertical-align: middle;\n",
       "    }\n",
       "\n",
       "    .dataframe tbody tr th {\n",
       "        vertical-align: top;\n",
       "    }\n",
       "\n",
       "    .dataframe thead th {\n",
       "        text-align: right;\n",
       "    }\n",
       "</style>\n",
       "<table border=\"1\" class=\"dataframe\">\n",
       "  <thead>\n",
       "    <tr style=\"text-align: right;\">\n",
       "      <th></th>\n",
       "      <th>count</th>\n",
       "      <th>mean</th>\n",
       "      <th>std</th>\n",
       "      <th>min</th>\n",
       "      <th>25%</th>\n",
       "      <th>50%</th>\n",
       "      <th>75%</th>\n",
       "      <th>max</th>\n",
       "    </tr>\n",
       "  </thead>\n",
       "  <tbody>\n",
       "    <tr>\n",
       "      <th>dist_driver_order</th>\n",
       "      <td>98836.0</td>\n",
       "      <td>11.841057</td>\n",
       "      <td>279.300064</td>\n",
       "      <td>0.0</td>\n",
       "      <td>0.404461</td>\n",
       "      <td>0.655852</td>\n",
       "      <td>1.323045</td>\n",
       "      <td>7278.687387</td>\n",
       "    </tr>\n",
       "  </tbody>\n",
       "</table>\n",
       "</div>"
      ],
      "text/plain": [
       "                     count       mean         std  min       25%       50%  \\\n",
       "dist_driver_order  98836.0  11.841057  279.300064  0.0  0.404461  0.655852   \n",
       "\n",
       "                        75%          max  \n",
       "dist_driver_order  1.323045  7278.687387  "
      ]
     },
     "execution_count": 99,
     "metadata": {},
     "output_type": "execute_result"
    }
   ],
   "source": [
    "data[['dist_driver_order']].describe().transpose()"
   ]
  },
  {
   "cell_type": "markdown",
   "metadata": {},
   "source": [
    "Посмотрим на распределение заказов по расстоянию между клиентом и водителем"
   ]
  },
  {
   "cell_type": "code",
   "execution_count": 100,
   "metadata": {},
   "outputs": [
    {
     "data": {
      "image/png": "[encoded data removed]",
      "text/plain": [
       "<Figure size 864x432 with 1 Axes>"
      ]
     },
     "metadata": {
      "needs_background": "light"
     },
     "output_type": "display_data"
    }
   ],
   "source": [
    "plt.figure(figsize=(12,6))\n",
    "sns.boxplot(x=data.dist_driver_order)\n",
    "plt.show()"
   ]
  },
  {
   "cell_type": "markdown",
   "metadata": {},
   "source": [
    "После добавления дополнительного параметра сразу заметны выбросы, посмотрим на них, и при необходимости исключим."
   ]
  },
  {
   "cell_type": "code",
   "execution_count": 101,
   "metadata": {},
   "outputs": [
    {
     "data": {
      "text/plain": [
       "(165, 16)"
      ]
     },
     "execution_count": 101,
     "metadata": {},
     "output_type": "execute_result"
    }
   ],
   "source": [
    "data[data['dist_driver_order']>=8].shape"
   ]
  },
  {
   "cell_type": "markdown",
   "metadata": {},
   "source": [
    "Всего 165 заказа с расстоянием 10 и более км между водителем и клиентом. Опять таки для городского такси это выглядит ненормально. Предлагается их исключить."
   ]
  },
  {
   "cell_type": "code",
   "execution_count": 102,
   "metadata": {},
   "outputs": [],
   "source": [
    "data = data[data['dist_driver_order']<8]"
   ]
  },
  {
   "cell_type": "code",
   "execution_count": 103,
   "metadata": {
    "scrolled": false
   },
   "outputs": [
    {
     "data": {
      "image/png": "[encoded data removed]",
      "text/plain": [
       "<Figure size 864x432 with 1 Axes>"
      ]
     },
     "metadata": {
      "needs_background": "light"
     },
     "output_type": "display_data"
    }
   ],
   "source": [
    "plt.figure(figsize=(12,6))\n",
    "sns.boxplot(x=data.dist_driver_order)\n",
    "plt.show()"
   ]
  },
  {
   "cell_type": "code",
   "execution_count": 104,
   "metadata": {
    "scrolled": true
   },
   "outputs": [
    {
     "data": {
      "text/plain": [
       "(98671, 16)"
      ]
     },
     "execution_count": 104,
     "metadata": {},
     "output_type": "execute_result"
    }
   ],
   "source": [
    "data.shape"
   ]
  },
  {
   "cell_type": "markdown",
   "metadata": {},
   "source": [
    "Так как столбцы с координатами больше ненужны, удаляем их"
   ]
  },
  {
   "cell_type": "code",
   "execution_count": 105,
   "metadata": {},
   "outputs": [],
   "source": [
    "data.drop(['driver_latitude', 'driver_longitude', 'origin_order_latitude', 'origin_order_longitude'], axis=1, inplace = True)"
   ]
  },
  {
   "cell_type": "code",
   "execution_count": 106,
   "metadata": {},
   "outputs": [
    {
     "data": {
      "text/html": [
       "<div>\n",
       "<style scoped>\n",
       "    .dataframe tbody tr th:only-of-type {\n",
       "        vertical-align: middle;\n",
       "    }\n",
       "\n",
       "    .dataframe tbody tr th {\n",
       "        vertical-align: top;\n",
       "    }\n",
       "\n",
       "    .dataframe thead th {\n",
       "        text-align: right;\n",
       "    }\n",
       "</style>\n",
       "<table border=\"1\" class=\"dataframe\">\n",
       "  <thead>\n",
       "    <tr style=\"text-align: right;\">\n",
       "      <th></th>\n",
       "      <th>offer_gk</th>\n",
       "      <th>weekday_key</th>\n",
       "      <th>hour_key</th>\n",
       "      <th>driver_gk</th>\n",
       "      <th>order_gk</th>\n",
       "      <th>distance_km</th>\n",
       "      <th>duration_min</th>\n",
       "      <th>offer_class_group</th>\n",
       "      <th>ride_type_desc</th>\n",
       "      <th>driver_response</th>\n",
       "      <th>dist_unknown</th>\n",
       "      <th>dist_driver_order</th>\n",
       "    </tr>\n",
       "  </thead>\n",
       "  <tbody>\n",
       "    <tr>\n",
       "      <th>0</th>\n",
       "      <td>1105373</td>\n",
       "      <td>5</td>\n",
       "      <td>20</td>\n",
       "      <td>6080</td>\n",
       "      <td>174182</td>\n",
       "      <td>-1.000</td>\n",
       "      <td>-1.000</td>\n",
       "      <td>Economy</td>\n",
       "      <td>private</td>\n",
       "      <td>0</td>\n",
       "      <td>1.0</td>\n",
       "      <td>1.363473</td>\n",
       "    </tr>\n",
       "    <tr>\n",
       "      <th>1</th>\n",
       "      <td>759733</td>\n",
       "      <td>5</td>\n",
       "      <td>14</td>\n",
       "      <td>6080</td>\n",
       "      <td>358774</td>\n",
       "      <td>18.802</td>\n",
       "      <td>25.217</td>\n",
       "      <td>Standard</td>\n",
       "      <td>private</td>\n",
       "      <td>1</td>\n",
       "      <td>0.0</td>\n",
       "      <td>3.414164</td>\n",
       "    </tr>\n",
       "    <tr>\n",
       "      <th>2</th>\n",
       "      <td>416977</td>\n",
       "      <td>6</td>\n",
       "      <td>14</td>\n",
       "      <td>6080</td>\n",
       "      <td>866260</td>\n",
       "      <td>6.747</td>\n",
       "      <td>9.800</td>\n",
       "      <td>Economy</td>\n",
       "      <td>private</td>\n",
       "      <td>0</td>\n",
       "      <td>0.0</td>\n",
       "      <td>0.410128</td>\n",
       "    </tr>\n",
       "    <tr>\n",
       "      <th>3</th>\n",
       "      <td>889660</td>\n",
       "      <td>2</td>\n",
       "      <td>6</td>\n",
       "      <td>6080</td>\n",
       "      <td>163522</td>\n",
       "      <td>-1.000</td>\n",
       "      <td>-1.000</td>\n",
       "      <td>Economy</td>\n",
       "      <td>private</td>\n",
       "      <td>1</td>\n",
       "      <td>1.0</td>\n",
       "      <td>0.647676</td>\n",
       "    </tr>\n",
       "    <tr>\n",
       "      <th>4</th>\n",
       "      <td>1120055</td>\n",
       "      <td>4</td>\n",
       "      <td>16</td>\n",
       "      <td>6080</td>\n",
       "      <td>506710</td>\n",
       "      <td>12.383</td>\n",
       "      <td>19.250</td>\n",
       "      <td>Economy</td>\n",
       "      <td>private</td>\n",
       "      <td>1</td>\n",
       "      <td>0.0</td>\n",
       "      <td>1.062815</td>\n",
       "    </tr>\n",
       "  </tbody>\n",
       "</table>\n",
       "</div>"
      ],
      "text/plain": [
       "   offer_gk  weekday_key  hour_key  driver_gk  order_gk  distance_km  \\\n",
       "0   1105373            5        20       6080    174182       -1.000   \n",
       "1    759733            5        14       6080    358774       18.802   \n",
       "2    416977            6        14       6080    866260        6.747   \n",
       "3    889660            2         6       6080    163522       -1.000   \n",
       "4   1120055            4        16       6080    506710       12.383   \n",
       "\n",
       "   duration_min offer_class_group ride_type_desc  driver_response  \\\n",
       "0        -1.000           Economy        private                0   \n",
       "1        25.217          Standard        private                1   \n",
       "2         9.800           Economy        private                0   \n",
       "3        -1.000           Economy        private                1   \n",
       "4        19.250           Economy        private                1   \n",
       "\n",
       "   dist_unknown  dist_driver_order  \n",
       "0           1.0           1.363473  \n",
       "1           0.0           3.414164  \n",
       "2           0.0           0.410128  \n",
       "3           1.0           0.647676  \n",
       "4           0.0           1.062815  "
      ]
     },
     "execution_count": 106,
     "metadata": {},
     "output_type": "execute_result"
    }
   ],
   "source": [
    "data.head()"
   ]
  },
  {
   "cell_type": "markdown",
   "metadata": {},
   "source": [
    "Также добавим параметр ориентировочного времени от водителя до клиента. Для тех поездок, по которым известно расстояние и время, вычислим из имеющихся данных, для прочих поездок, вычислим среднюю скорость для каждого часа каждого дня недели, и на основе полученных данных вычислим время"
   ]
  },
  {
   "cell_type": "code",
   "execution_count": 107,
   "metadata": {},
   "outputs": [],
   "source": [
    "data_1 = data[data['distance_km']>0]"
   ]
  },
  {
   "cell_type": "code",
   "execution_count": 108,
   "metadata": {
    "scrolled": true
   },
   "outputs": [
    {
     "data": {
      "text/plain": [
       "(72592, 12)"
      ]
     },
     "execution_count": 108,
     "metadata": {},
     "output_type": "execute_result"
    }
   ],
   "source": [
    "data_1.shape"
   ]
  },
  {
   "cell_type": "code",
   "execution_count": 109,
   "metadata": {},
   "outputs": [],
   "source": [
    "speed = pd.pivot_table(data_1, \n",
    "               index = ['weekday_key', 'hour_key'], \n",
    "               values = ['distance_km', 'duration_min'],\n",
    "               aggfunc = ('mean')).reset_index()"
   ]
  },
  {
   "cell_type": "code",
   "execution_count": 110,
   "metadata": {},
   "outputs": [],
   "source": [
    "speed['speed'] = speed['distance_km'] / speed['duration_min']"
   ]
  },
  {
   "cell_type": "code",
   "execution_count": 111,
   "metadata": {
    "scrolled": true
   },
   "outputs": [],
   "source": [
    "speed.drop(['distance_km', 'duration_min'], axis=1, inplace = True)"
   ]
  },
  {
   "cell_type": "code",
   "execution_count": 112,
   "metadata": {},
   "outputs": [],
   "source": [
    "data = data.merge(speed, how = 'left', on = ['weekday_key', 'hour_key'])"
   ]
  },
  {
   "cell_type": "code",
   "execution_count": 113,
   "metadata": {},
   "outputs": [],
   "source": [
    "data.loc[data['distance_km']>0, 'dur_driver_order'] = data['dist_driver_order'] / (data['distance_km'] / data['duration_min'])\n",
    "data.loc[data['distance_km']<0, 'dur_driver_order'] = data['dist_driver_order'] / data['speed']"
   ]
  },
  {
   "cell_type": "code",
   "execution_count": 114,
   "metadata": {
    "scrolled": true
   },
   "outputs": [
    {
     "data": {
      "text/html": [
       "<div>\n",
       "<style scoped>\n",
       "    .dataframe tbody tr th:only-of-type {\n",
       "        vertical-align: middle;\n",
       "    }\n",
       "\n",
       "    .dataframe tbody tr th {\n",
       "        vertical-align: top;\n",
       "    }\n",
       "\n",
       "    .dataframe thead th {\n",
       "        text-align: right;\n",
       "    }\n",
       "</style>\n",
       "<table border=\"1\" class=\"dataframe\">\n",
       "  <thead>\n",
       "    <tr style=\"text-align: right;\">\n",
       "      <th></th>\n",
       "      <th>offer_gk</th>\n",
       "      <th>weekday_key</th>\n",
       "      <th>hour_key</th>\n",
       "      <th>driver_gk</th>\n",
       "      <th>order_gk</th>\n",
       "      <th>distance_km</th>\n",
       "      <th>duration_min</th>\n",
       "      <th>offer_class_group</th>\n",
       "      <th>ride_type_desc</th>\n",
       "      <th>driver_response</th>\n",
       "      <th>dist_unknown</th>\n",
       "      <th>dist_driver_order</th>\n",
       "      <th>speed</th>\n",
       "      <th>dur_driver_order</th>\n",
       "    </tr>\n",
       "  </thead>\n",
       "  <tbody>\n",
       "    <tr>\n",
       "      <th>0</th>\n",
       "      <td>1105373</td>\n",
       "      <td>5</td>\n",
       "      <td>20</td>\n",
       "      <td>6080</td>\n",
       "      <td>174182</td>\n",
       "      <td>-1.000</td>\n",
       "      <td>-1.000</td>\n",
       "      <td>Economy</td>\n",
       "      <td>private</td>\n",
       "      <td>0</td>\n",
       "      <td>1.0</td>\n",
       "      <td>1.363473</td>\n",
       "      <td>0.750471</td>\n",
       "      <td>1.816823</td>\n",
       "    </tr>\n",
       "    <tr>\n",
       "      <th>1</th>\n",
       "      <td>759733</td>\n",
       "      <td>5</td>\n",
       "      <td>14</td>\n",
       "      <td>6080</td>\n",
       "      <td>358774</td>\n",
       "      <td>18.802</td>\n",
       "      <td>25.217</td>\n",
       "      <td>Standard</td>\n",
       "      <td>private</td>\n",
       "      <td>1</td>\n",
       "      <td>0.0</td>\n",
       "      <td>3.414164</td>\n",
       "      <td>0.664303</td>\n",
       "      <td>4.579032</td>\n",
       "    </tr>\n",
       "    <tr>\n",
       "      <th>2</th>\n",
       "      <td>416977</td>\n",
       "      <td>6</td>\n",
       "      <td>14</td>\n",
       "      <td>6080</td>\n",
       "      <td>866260</td>\n",
       "      <td>6.747</td>\n",
       "      <td>9.800</td>\n",
       "      <td>Economy</td>\n",
       "      <td>private</td>\n",
       "      <td>0</td>\n",
       "      <td>0.0</td>\n",
       "      <td>0.410128</td>\n",
       "      <td>0.716270</td>\n",
       "      <td>0.595710</td>\n",
       "    </tr>\n",
       "    <tr>\n",
       "      <th>3</th>\n",
       "      <td>889660</td>\n",
       "      <td>2</td>\n",
       "      <td>6</td>\n",
       "      <td>6080</td>\n",
       "      <td>163522</td>\n",
       "      <td>-1.000</td>\n",
       "      <td>-1.000</td>\n",
       "      <td>Economy</td>\n",
       "      <td>private</td>\n",
       "      <td>1</td>\n",
       "      <td>1.0</td>\n",
       "      <td>0.647676</td>\n",
       "      <td>0.878453</td>\n",
       "      <td>0.737291</td>\n",
       "    </tr>\n",
       "    <tr>\n",
       "      <th>4</th>\n",
       "      <td>1120055</td>\n",
       "      <td>4</td>\n",
       "      <td>16</td>\n",
       "      <td>6080</td>\n",
       "      <td>506710</td>\n",
       "      <td>12.383</td>\n",
       "      <td>19.250</td>\n",
       "      <td>Economy</td>\n",
       "      <td>private</td>\n",
       "      <td>1</td>\n",
       "      <td>0.0</td>\n",
       "      <td>1.062815</td>\n",
       "      <td>0.715690</td>\n",
       "      <td>1.652200</td>\n",
       "    </tr>\n",
       "  </tbody>\n",
       "</table>\n",
       "</div>"
      ],
      "text/plain": [
       "   offer_gk  weekday_key  hour_key  driver_gk  order_gk  distance_km  \\\n",
       "0   1105373            5        20       6080    174182       -1.000   \n",
       "1    759733            5        14       6080    358774       18.802   \n",
       "2    416977            6        14       6080    866260        6.747   \n",
       "3    889660            2         6       6080    163522       -1.000   \n",
       "4   1120055            4        16       6080    506710       12.383   \n",
       "\n",
       "   duration_min offer_class_group ride_type_desc  driver_response  \\\n",
       "0        -1.000           Economy        private                0   \n",
       "1        25.217          Standard        private                1   \n",
       "2         9.800           Economy        private                0   \n",
       "3        -1.000           Economy        private                1   \n",
       "4        19.250           Economy        private                1   \n",
       "\n",
       "   dist_unknown  dist_driver_order     speed  dur_driver_order  \n",
       "0           1.0           1.363473  0.750471          1.816823  \n",
       "1           0.0           3.414164  0.664303          4.579032  \n",
       "2           0.0           0.410128  0.716270          0.595710  \n",
       "3           1.0           0.647676  0.878453          0.737291  \n",
       "4           0.0           1.062815  0.715690          1.652200  "
      ]
     },
     "execution_count": 114,
     "metadata": {},
     "output_type": "execute_result"
    }
   ],
   "source": [
    "data.head()"
   ]
  },
  {
   "cell_type": "code",
   "execution_count": 115,
   "metadata": {
    "scrolled": false
   },
   "outputs": [
    {
     "data": {
      "image/png": "[encoded data removed]",
      "text/plain": [
       "<Figure size 864x432 with 1 Axes>"
      ]
     },
     "metadata": {
      "needs_background": "light"
     },
     "output_type": "display_data"
    }
   ],
   "source": [
    "plt.figure(figsize=(12,6))\n",
    "sns.boxplot(x=data.dur_driver_order)\n",
    "plt.show()"
   ]
  },
  {
   "cell_type": "code",
   "execution_count": 116,
   "metadata": {},
   "outputs": [
    {
     "data": {
      "text/plain": [
       "(46, 14)"
      ]
     },
     "execution_count": 116,
     "metadata": {},
     "output_type": "execute_result"
    }
   ],
   "source": [
    "data[data['dur_driver_order']>15].shape"
   ]
  },
  {
   "cell_type": "code",
   "execution_count": 117,
   "metadata": {},
   "outputs": [],
   "source": [
    "data = data[data['dur_driver_order']<=15]"
   ]
  },
  {
   "cell_type": "code",
   "execution_count": 118,
   "metadata": {},
   "outputs": [
    {
     "data": {
      "image/png": "[encoded data removed]",
      "text/plain": [
       "<Figure size 864x432 with 1 Axes>"
      ]
     },
     "metadata": {
      "needs_background": "light"
     },
     "output_type": "display_data"
    }
   ],
   "source": [
    "plt.figure(figsize=(12,6))\n",
    "sns.boxplot(x=data.dur_driver_order)\n",
    "plt.show()"
   ]
  },
  {
   "cell_type": "markdown",
   "metadata": {},
   "source": [
    "Так как поездки с неопределенным расстоянием мы вынесли в отдельный признак, предлагается заполнить расстояние и длительность медианой по классу и типу поездки."
   ]
  },
  {
   "cell_type": "code",
   "execution_count": 119,
   "metadata": {},
   "outputs": [
    {
     "data": {
      "text/html": [
       "<div>\n",
       "<style scoped>\n",
       "    .dataframe tbody tr th:only-of-type {\n",
       "        vertical-align: middle;\n",
       "    }\n",
       "\n",
       "    .dataframe tbody tr th {\n",
       "        vertical-align: top;\n",
       "    }\n",
       "\n",
       "    .dataframe thead th {\n",
       "        text-align: right;\n",
       "    }\n",
       "</style>\n",
       "<table border=\"1\" class=\"dataframe\">\n",
       "  <thead>\n",
       "    <tr style=\"text-align: right;\">\n",
       "      <th></th>\n",
       "      <th>offer_gk</th>\n",
       "      <th>weekday_key</th>\n",
       "      <th>hour_key</th>\n",
       "      <th>driver_gk</th>\n",
       "      <th>order_gk</th>\n",
       "      <th>distance_km</th>\n",
       "      <th>duration_min</th>\n",
       "      <th>offer_class_group</th>\n",
       "      <th>ride_type_desc</th>\n",
       "      <th>driver_response</th>\n",
       "      <th>dist_unknown</th>\n",
       "      <th>dist_driver_order</th>\n",
       "      <th>speed</th>\n",
       "      <th>dur_driver_order</th>\n",
       "    </tr>\n",
       "  </thead>\n",
       "  <tbody>\n",
       "    <tr>\n",
       "      <th>0</th>\n",
       "      <td>1105373</td>\n",
       "      <td>5</td>\n",
       "      <td>20</td>\n",
       "      <td>6080</td>\n",
       "      <td>174182</td>\n",
       "      <td>-1.000</td>\n",
       "      <td>-1.000</td>\n",
       "      <td>Economy</td>\n",
       "      <td>private</td>\n",
       "      <td>0</td>\n",
       "      <td>1.0</td>\n",
       "      <td>1.363473</td>\n",
       "      <td>0.750471</td>\n",
       "      <td>1.816823</td>\n",
       "    </tr>\n",
       "    <tr>\n",
       "      <th>1</th>\n",
       "      <td>759733</td>\n",
       "      <td>5</td>\n",
       "      <td>14</td>\n",
       "      <td>6080</td>\n",
       "      <td>358774</td>\n",
       "      <td>18.802</td>\n",
       "      <td>25.217</td>\n",
       "      <td>Standard</td>\n",
       "      <td>private</td>\n",
       "      <td>1</td>\n",
       "      <td>0.0</td>\n",
       "      <td>3.414164</td>\n",
       "      <td>0.664303</td>\n",
       "      <td>4.579032</td>\n",
       "    </tr>\n",
       "    <tr>\n",
       "      <th>2</th>\n",
       "      <td>416977</td>\n",
       "      <td>6</td>\n",
       "      <td>14</td>\n",
       "      <td>6080</td>\n",
       "      <td>866260</td>\n",
       "      <td>6.747</td>\n",
       "      <td>9.800</td>\n",
       "      <td>Economy</td>\n",
       "      <td>private</td>\n",
       "      <td>0</td>\n",
       "      <td>0.0</td>\n",
       "      <td>0.410128</td>\n",
       "      <td>0.716270</td>\n",
       "      <td>0.595710</td>\n",
       "    </tr>\n",
       "    <tr>\n",
       "      <th>3</th>\n",
       "      <td>889660</td>\n",
       "      <td>2</td>\n",
       "      <td>6</td>\n",
       "      <td>6080</td>\n",
       "      <td>163522</td>\n",
       "      <td>-1.000</td>\n",
       "      <td>-1.000</td>\n",
       "      <td>Economy</td>\n",
       "      <td>private</td>\n",
       "      <td>1</td>\n",
       "      <td>1.0</td>\n",
       "      <td>0.647676</td>\n",
       "      <td>0.878453</td>\n",
       "      <td>0.737291</td>\n",
       "    </tr>\n",
       "    <tr>\n",
       "      <th>4</th>\n",
       "      <td>1120055</td>\n",
       "      <td>4</td>\n",
       "      <td>16</td>\n",
       "      <td>6080</td>\n",
       "      <td>506710</td>\n",
       "      <td>12.383</td>\n",
       "      <td>19.250</td>\n",
       "      <td>Economy</td>\n",
       "      <td>private</td>\n",
       "      <td>1</td>\n",
       "      <td>0.0</td>\n",
       "      <td>1.062815</td>\n",
       "      <td>0.715690</td>\n",
       "      <td>1.652200</td>\n",
       "    </tr>\n",
       "  </tbody>\n",
       "</table>\n",
       "</div>"
      ],
      "text/plain": [
       "   offer_gk  weekday_key  hour_key  driver_gk  order_gk  distance_km  \\\n",
       "0   1105373            5        20       6080    174182       -1.000   \n",
       "1    759733            5        14       6080    358774       18.802   \n",
       "2    416977            6        14       6080    866260        6.747   \n",
       "3    889660            2         6       6080    163522       -1.000   \n",
       "4   1120055            4        16       6080    506710       12.383   \n",
       "\n",
       "   duration_min offer_class_group ride_type_desc  driver_response  \\\n",
       "0        -1.000           Economy        private                0   \n",
       "1        25.217          Standard        private                1   \n",
       "2         9.800           Economy        private                0   \n",
       "3        -1.000           Economy        private                1   \n",
       "4        19.250           Economy        private                1   \n",
       "\n",
       "   dist_unknown  dist_driver_order     speed  dur_driver_order  \n",
       "0           1.0           1.363473  0.750471          1.816823  \n",
       "1           0.0           3.414164  0.664303          4.579032  \n",
       "2           0.0           0.410128  0.716270          0.595710  \n",
       "3           1.0           0.647676  0.878453          0.737291  \n",
       "4           0.0           1.062815  0.715690          1.652200  "
      ]
     },
     "execution_count": 119,
     "metadata": {},
     "output_type": "execute_result"
    }
   ],
   "source": [
    "data.head()"
   ]
  },
  {
   "cell_type": "code",
   "execution_count": 120,
   "metadata": {
    "scrolled": true
   },
   "outputs": [
    {
     "data": {
      "text/plain": [
       "1742609.3900000001"
      ]
     },
     "execution_count": 120,
     "metadata": {},
     "output_type": "execute_result"
    }
   ],
   "source": [
    "data[data['dist_unknown']==0]['distance_km'].sum()"
   ]
  },
  {
   "cell_type": "code",
   "execution_count": 121,
   "metadata": {
    "scrolled": false
   },
   "outputs": [
    {
     "data": {
      "text/html": [
       "<div>\n",
       "<style scoped>\n",
       "    .dataframe tbody tr th:only-of-type {\n",
       "        vertical-align: middle;\n",
       "    }\n",
       "\n",
       "    .dataframe tbody tr th {\n",
       "        vertical-align: top;\n",
       "    }\n",
       "\n",
       "    .dataframe thead th {\n",
       "        text-align: right;\n",
       "    }\n",
       "</style>\n",
       "<table border=\"1\" class=\"dataframe\">\n",
       "  <thead>\n",
       "    <tr style=\"text-align: right;\">\n",
       "      <th></th>\n",
       "      <th>offer_class_group</th>\n",
       "      <th>ride_type_desc</th>\n",
       "      <th>distance_km</th>\n",
       "      <th>duration_min</th>\n",
       "    </tr>\n",
       "  </thead>\n",
       "  <tbody>\n",
       "    <tr>\n",
       "      <th>0</th>\n",
       "      <td>Delivery</td>\n",
       "      <td>business</td>\n",
       "      <td>16.4090</td>\n",
       "      <td>30.1500</td>\n",
       "    </tr>\n",
       "    <tr>\n",
       "      <th>1</th>\n",
       "      <td>Delivery</td>\n",
       "      <td>private</td>\n",
       "      <td>14.3040</td>\n",
       "      <td>25.5085</td>\n",
       "    </tr>\n",
       "    <tr>\n",
       "      <th>2</th>\n",
       "      <td>Economy</td>\n",
       "      <td>SMB</td>\n",
       "      <td>23.2700</td>\n",
       "      <td>26.4330</td>\n",
       "    </tr>\n",
       "    <tr>\n",
       "      <th>3</th>\n",
       "      <td>Economy</td>\n",
       "      <td>business</td>\n",
       "      <td>14.8090</td>\n",
       "      <td>26.0330</td>\n",
       "    </tr>\n",
       "    <tr>\n",
       "      <th>4</th>\n",
       "      <td>Economy</td>\n",
       "      <td>private</td>\n",
       "      <td>17.2985</td>\n",
       "      <td>26.6330</td>\n",
       "    </tr>\n",
       "    <tr>\n",
       "      <th>5</th>\n",
       "      <td>Kids</td>\n",
       "      <td>private</td>\n",
       "      <td>8.9790</td>\n",
       "      <td>18.4670</td>\n",
       "    </tr>\n",
       "    <tr>\n",
       "      <th>6</th>\n",
       "      <td>Premium</td>\n",
       "      <td>private</td>\n",
       "      <td>10.5060</td>\n",
       "      <td>21.1670</td>\n",
       "    </tr>\n",
       "    <tr>\n",
       "      <th>7</th>\n",
       "      <td>Standard</td>\n",
       "      <td>business</td>\n",
       "      <td>17.0830</td>\n",
       "      <td>26.3670</td>\n",
       "    </tr>\n",
       "    <tr>\n",
       "      <th>8</th>\n",
       "      <td>Standard</td>\n",
       "      <td>private</td>\n",
       "      <td>23.3780</td>\n",
       "      <td>31.6500</td>\n",
       "    </tr>\n",
       "    <tr>\n",
       "      <th>9</th>\n",
       "      <td>VIP</td>\n",
       "      <td>private</td>\n",
       "      <td>7.6485</td>\n",
       "      <td>19.0170</td>\n",
       "    </tr>\n",
       "    <tr>\n",
       "      <th>10</th>\n",
       "      <td>VIP+</td>\n",
       "      <td>private</td>\n",
       "      <td>6.0170</td>\n",
       "      <td>18.2170</td>\n",
       "    </tr>\n",
       "    <tr>\n",
       "      <th>11</th>\n",
       "      <td>XL</td>\n",
       "      <td>private</td>\n",
       "      <td>12.0470</td>\n",
       "      <td>24.2330</td>\n",
       "    </tr>\n",
       "  </tbody>\n",
       "</table>\n",
       "</div>"
      ],
      "text/plain": [
       "   offer_class_group ride_type_desc  distance_km  duration_min\n",
       "0           Delivery       business      16.4090       30.1500\n",
       "1           Delivery        private      14.3040       25.5085\n",
       "2            Economy            SMB      23.2700       26.4330\n",
       "3            Economy       business      14.8090       26.0330\n",
       "4            Economy        private      17.2985       26.6330\n",
       "5               Kids        private       8.9790       18.4670\n",
       "6            Premium        private      10.5060       21.1670\n",
       "7           Standard       business      17.0830       26.3670\n",
       "8           Standard        private      23.3780       31.6500\n",
       "9                VIP        private       7.6485       19.0170\n",
       "10              VIP+        private       6.0170       18.2170\n",
       "11                XL        private      12.0470       24.2330"
      ]
     },
     "execution_count": 121,
     "metadata": {},
     "output_type": "execute_result"
    }
   ],
   "source": [
    "median_dist = pd.pivot_table(data_1, \n",
    "               index = ['offer_class_group', 'ride_type_desc'], \n",
    "               values = ['distance_km', 'duration_min'],\n",
    "               aggfunc = ('median')).reset_index()\n",
    "median_dist"
   ]
  },
  {
   "cell_type": "code",
   "execution_count": 122,
   "metadata": {},
   "outputs": [],
   "source": [
    "data = data.merge(median_dist, how = 'left', on = ['offer_class_group', 'ride_type_desc'])"
   ]
  },
  {
   "cell_type": "code",
   "execution_count": 123,
   "metadata": {},
   "outputs": [],
   "source": [
    "data.loc[data['distance_km_x']<0, 'distance_km_x'] = data['distance_km_y']\n",
    "data.loc[data['duration_min_x']<0, 'duration_min_x'] = data['distance_km_x'] / data['speed']"
   ]
  },
  {
   "cell_type": "code",
   "execution_count": 124,
   "metadata": {},
   "outputs": [],
   "source": [
    "data.drop(['distance_km_y', 'duration_min_y'], axis=1, inplace = True)"
   ]
  },
  {
   "cell_type": "code",
   "execution_count": 125,
   "metadata": {},
   "outputs": [],
   "source": [
    "data.rename(columns={'distance_km_x': 'distance_km', 'duration_min_x': 'duration_min'}, inplace=True)"
   ]
  },
  {
   "cell_type": "code",
   "execution_count": 126,
   "metadata": {
    "scrolled": true
   },
   "outputs": [
    {
     "data": {
      "text/plain": [
       "offer_gk               0\n",
       "weekday_key            0\n",
       "hour_key               0\n",
       "driver_gk              0\n",
       "order_gk               0\n",
       "distance_km          368\n",
       "duration_min         368\n",
       "offer_class_group      0\n",
       "ride_type_desc         0\n",
       "driver_response        0\n",
       "dist_unknown           0\n",
       "dist_driver_order      0\n",
       "speed                  0\n",
       "dur_driver_order       0\n",
       "dtype: int64"
      ]
     },
     "execution_count": 126,
     "metadata": {},
     "output_type": "execute_result"
    }
   ],
   "source": [
    "data.isnull().sum()"
   ]
  },
  {
   "cell_type": "markdown",
   "metadata": {},
   "source": [
    "По части поездок не удалось вычислить дистанцию и время поездки. Посмотрим, что это за поездки."
   ]
  },
  {
   "cell_type": "code",
   "execution_count": 127,
   "metadata": {},
   "outputs": [
    {
     "data": {
      "text/plain": [
       "(368, 14)"
      ]
     },
     "execution_count": 127,
     "metadata": {},
     "output_type": "execute_result"
    }
   ],
   "source": [
    "data[data['distance_km'].isnull()].shape"
   ]
  },
  {
   "cell_type": "code",
   "execution_count": 128,
   "metadata": {},
   "outputs": [
    {
     "data": {
      "text/html": [
       "<div>\n",
       "<style scoped>\n",
       "    .dataframe tbody tr th:only-of-type {\n",
       "        vertical-align: middle;\n",
       "    }\n",
       "\n",
       "    .dataframe tbody tr th {\n",
       "        vertical-align: top;\n",
       "    }\n",
       "\n",
       "    .dataframe thead th {\n",
       "        text-align: right;\n",
       "    }\n",
       "</style>\n",
       "<table border=\"1\" class=\"dataframe\">\n",
       "  <thead>\n",
       "    <tr style=\"text-align: right;\">\n",
       "      <th></th>\n",
       "      <th>offer_gk</th>\n",
       "      <th>weekday_key</th>\n",
       "      <th>hour_key</th>\n",
       "      <th>driver_gk</th>\n",
       "      <th>order_gk</th>\n",
       "      <th>distance_km</th>\n",
       "      <th>duration_min</th>\n",
       "      <th>offer_class_group</th>\n",
       "      <th>ride_type_desc</th>\n",
       "      <th>driver_response</th>\n",
       "      <th>dist_unknown</th>\n",
       "      <th>dist_driver_order</th>\n",
       "      <th>speed</th>\n",
       "      <th>dur_driver_order</th>\n",
       "    </tr>\n",
       "  </thead>\n",
       "  <tbody>\n",
       "    <tr>\n",
       "      <th>187</th>\n",
       "      <td>152946</td>\n",
       "      <td>5</td>\n",
       "      <td>23</td>\n",
       "      <td>6080</td>\n",
       "      <td>871153</td>\n",
       "      <td>NaN</td>\n",
       "      <td>NaN</td>\n",
       "      <td>Standard</td>\n",
       "      <td>affiliate</td>\n",
       "      <td>0</td>\n",
       "      <td>1.0</td>\n",
       "      <td>2.652264</td>\n",
       "      <td>0.811660</td>\n",
       "      <td>3.267704</td>\n",
       "    </tr>\n",
       "    <tr>\n",
       "      <th>219</th>\n",
       "      <td>116904</td>\n",
       "      <td>6</td>\n",
       "      <td>18</td>\n",
       "      <td>6080</td>\n",
       "      <td>478176</td>\n",
       "      <td>NaN</td>\n",
       "      <td>NaN</td>\n",
       "      <td>Standard</td>\n",
       "      <td>affiliate</td>\n",
       "      <td>0</td>\n",
       "      <td>1.0</td>\n",
       "      <td>1.121049</td>\n",
       "      <td>0.767957</td>\n",
       "      <td>1.459780</td>\n",
       "    </tr>\n",
       "    <tr>\n",
       "      <th>281</th>\n",
       "      <td>28066</td>\n",
       "      <td>4</td>\n",
       "      <td>2</td>\n",
       "      <td>3016</td>\n",
       "      <td>589375</td>\n",
       "      <td>NaN</td>\n",
       "      <td>NaN</td>\n",
       "      <td>Standard</td>\n",
       "      <td>affiliate</td>\n",
       "      <td>1</td>\n",
       "      <td>1.0</td>\n",
       "      <td>0.309075</td>\n",
       "      <td>0.889185</td>\n",
       "      <td>0.347593</td>\n",
       "    </tr>\n",
       "    <tr>\n",
       "      <th>297</th>\n",
       "      <td>436013</td>\n",
       "      <td>4</td>\n",
       "      <td>3</td>\n",
       "      <td>3016</td>\n",
       "      <td>276988</td>\n",
       "      <td>NaN</td>\n",
       "      <td>NaN</td>\n",
       "      <td>Standard</td>\n",
       "      <td>affiliate</td>\n",
       "      <td>1</td>\n",
       "      <td>1.0</td>\n",
       "      <td>0.320359</td>\n",
       "      <td>0.822502</td>\n",
       "      <td>0.389494</td>\n",
       "    </tr>\n",
       "    <tr>\n",
       "      <th>403</th>\n",
       "      <td>944426</td>\n",
       "      <td>4</td>\n",
       "      <td>3</td>\n",
       "      <td>3016</td>\n",
       "      <td>755909</td>\n",
       "      <td>NaN</td>\n",
       "      <td>NaN</td>\n",
       "      <td>Standard</td>\n",
       "      <td>affiliate</td>\n",
       "      <td>1</td>\n",
       "      <td>1.0</td>\n",
       "      <td>0.310832</td>\n",
       "      <td>0.822502</td>\n",
       "      <td>0.377911</td>\n",
       "    </tr>\n",
       "  </tbody>\n",
       "</table>\n",
       "</div>"
      ],
      "text/plain": [
       "     offer_gk  weekday_key  hour_key  driver_gk  order_gk  distance_km  \\\n",
       "187    152946            5        23       6080    871153          NaN   \n",
       "219    116904            6        18       6080    478176          NaN   \n",
       "281     28066            4         2       3016    589375          NaN   \n",
       "297    436013            4         3       3016    276988          NaN   \n",
       "403    944426            4         3       3016    755909          NaN   \n",
       "\n",
       "     duration_min offer_class_group ride_type_desc  driver_response  \\\n",
       "187           NaN          Standard      affiliate                0   \n",
       "219           NaN          Standard      affiliate                0   \n",
       "281           NaN          Standard      affiliate                1   \n",
       "297           NaN          Standard      affiliate                1   \n",
       "403           NaN          Standard      affiliate                1   \n",
       "\n",
       "     dist_unknown  dist_driver_order     speed  dur_driver_order  \n",
       "187           1.0           2.652264  0.811660          3.267704  \n",
       "219           1.0           1.121049  0.767957          1.459780  \n",
       "281           1.0           0.309075  0.889185          0.347593  \n",
       "297           1.0           0.320359  0.822502          0.389494  \n",
       "403           1.0           0.310832  0.822502          0.377911  "
      ]
     },
     "execution_count": 128,
     "metadata": {},
     "output_type": "execute_result"
    }
   ],
   "source": [
    "data[data['distance_km'].isnull()].head()"
   ]
  },
  {
   "cell_type": "code",
   "execution_count": 129,
   "metadata": {},
   "outputs": [
    {
     "data": {
      "text/html": [
       "<div>\n",
       "<style scoped>\n",
       "    .dataframe tbody tr th:only-of-type {\n",
       "        vertical-align: middle;\n",
       "    }\n",
       "\n",
       "    .dataframe tbody tr th {\n",
       "        vertical-align: top;\n",
       "    }\n",
       "\n",
       "    .dataframe thead th {\n",
       "        text-align: right;\n",
       "    }\n",
       "</style>\n",
       "<table border=\"1\" class=\"dataframe\">\n",
       "  <thead>\n",
       "    <tr style=\"text-align: right;\">\n",
       "      <th></th>\n",
       "      <th>offer_class_group</th>\n",
       "      <th>ride_type_desc</th>\n",
       "      <th>distance_km</th>\n",
       "      <th>duration_min</th>\n",
       "    </tr>\n",
       "  </thead>\n",
       "  <tbody>\n",
       "    <tr>\n",
       "      <th>0</th>\n",
       "      <td>Delivery</td>\n",
       "      <td>business</td>\n",
       "      <td>16.4090</td>\n",
       "      <td>24.036666</td>\n",
       "    </tr>\n",
       "    <tr>\n",
       "      <th>1</th>\n",
       "      <td>Delivery</td>\n",
       "      <td>private</td>\n",
       "      <td>14.3040</td>\n",
       "      <td>24.633000</td>\n",
       "    </tr>\n",
       "    <tr>\n",
       "      <th>2</th>\n",
       "      <td>Economy</td>\n",
       "      <td>SMB</td>\n",
       "      <td>23.2700</td>\n",
       "      <td>34.399881</td>\n",
       "    </tr>\n",
       "    <tr>\n",
       "      <th>3</th>\n",
       "      <td>Economy</td>\n",
       "      <td>business</td>\n",
       "      <td>14.8090</td>\n",
       "      <td>18.873015</td>\n",
       "    </tr>\n",
       "    <tr>\n",
       "      <th>4</th>\n",
       "      <td>Economy</td>\n",
       "      <td>private</td>\n",
       "      <td>17.2985</td>\n",
       "      <td>24.800000</td>\n",
       "    </tr>\n",
       "    <tr>\n",
       "      <th>5</th>\n",
       "      <td>Kids</td>\n",
       "      <td>private</td>\n",
       "      <td>8.9790</td>\n",
       "      <td>18.275000</td>\n",
       "    </tr>\n",
       "    <tr>\n",
       "      <th>6</th>\n",
       "      <td>Premium</td>\n",
       "      <td>private</td>\n",
       "      <td>10.5060</td>\n",
       "      <td>15.684382</td>\n",
       "    </tr>\n",
       "    <tr>\n",
       "      <th>7</th>\n",
       "      <td>Standard</td>\n",
       "      <td>business</td>\n",
       "      <td>17.0830</td>\n",
       "      <td>22.642583</td>\n",
       "    </tr>\n",
       "    <tr>\n",
       "      <th>8</th>\n",
       "      <td>Standard</td>\n",
       "      <td>private</td>\n",
       "      <td>23.3780</td>\n",
       "      <td>30.967000</td>\n",
       "    </tr>\n",
       "    <tr>\n",
       "      <th>9</th>\n",
       "      <td>VIP</td>\n",
       "      <td>private</td>\n",
       "      <td>7.6485</td>\n",
       "      <td>11.505679</td>\n",
       "    </tr>\n",
       "    <tr>\n",
       "      <th>10</th>\n",
       "      <td>VIP+</td>\n",
       "      <td>private</td>\n",
       "      <td>6.0170</td>\n",
       "      <td>8.485060</td>\n",
       "    </tr>\n",
       "    <tr>\n",
       "      <th>11</th>\n",
       "      <td>XL</td>\n",
       "      <td>private</td>\n",
       "      <td>12.0470</td>\n",
       "      <td>23.783000</td>\n",
       "    </tr>\n",
       "  </tbody>\n",
       "</table>\n",
       "</div>"
      ],
      "text/plain": [
       "   offer_class_group ride_type_desc  distance_km  duration_min\n",
       "0           Delivery       business      16.4090     24.036666\n",
       "1           Delivery        private      14.3040     24.633000\n",
       "2            Economy            SMB      23.2700     34.399881\n",
       "3            Economy       business      14.8090     18.873015\n",
       "4            Economy        private      17.2985     24.800000\n",
       "5               Kids        private       8.9790     18.275000\n",
       "6            Premium        private      10.5060     15.684382\n",
       "7           Standard       business      17.0830     22.642583\n",
       "8           Standard        private      23.3780     30.967000\n",
       "9                VIP        private       7.6485     11.505679\n",
       "10              VIP+        private       6.0170      8.485060\n",
       "11                XL        private      12.0470     23.783000"
      ]
     },
     "execution_count": 129,
     "metadata": {},
     "output_type": "execute_result"
    }
   ],
   "source": [
    "pd.pivot_table(data, \n",
    "               index = ['offer_class_group', 'ride_type_desc'], \n",
    "               values = ['distance_km', 'duration_min'],\n",
    "               aggfunc = ('median')).reset_index()"
   ]
  },
  {
   "cell_type": "code",
   "execution_count": 130,
   "metadata": {},
   "outputs": [
    {
     "data": {
      "text/plain": [
       "1742609.3900000001"
      ]
     },
     "execution_count": 130,
     "metadata": {},
     "output_type": "execute_result"
    }
   ],
   "source": [
    "data[data['dist_unknown']==0]['distance_km'].sum()"
   ]
  },
  {
   "cell_type": "code",
   "execution_count": 131,
   "metadata": {},
   "outputs": [
    {
     "data": {
      "text/plain": [
       "count    72546.000000\n",
       "mean        24.020751\n",
       "std         18.675390\n",
       "min          1.000000\n",
       "25%          8.001250\n",
       "50%         18.544000\n",
       "75%         38.260000\n",
       "max         79.998000\n",
       "Name: distance_km, dtype: float64"
      ]
     },
     "execution_count": 131,
     "metadata": {},
     "output_type": "execute_result"
    }
   ],
   "source": [
    "data[data['dist_unknown']==0]['distance_km'].describe()"
   ]
  },
  {
   "cell_type": "code",
   "execution_count": 132,
   "metadata": {},
   "outputs": [
    {
     "data": {
      "text/plain": [
       "count    25711.000000\n",
       "mean        19.408918\n",
       "std          3.629001\n",
       "min          6.017000\n",
       "25%         17.083000\n",
       "50%         17.298500\n",
       "75%         23.378000\n",
       "max         23.378000\n",
       "Name: distance_km, dtype: float64"
      ]
     },
     "execution_count": 132,
     "metadata": {},
     "output_type": "execute_result"
    }
   ],
   "source": [
    "data[data['dist_unknown']!=0]['distance_km'].describe()"
   ]
  },
  {
   "cell_type": "code",
   "execution_count": 133,
   "metadata": {},
   "outputs": [
    {
     "data": {
      "image/png": "[encoded data removed]",
      "text/plain": [
       "<Figure size 720x576 with 1 Axes>"
      ]
     },
     "metadata": {
      "needs_background": "light"
     },
     "output_type": "display_data"
    }
   ],
   "source": [
    "plt.figure(figsize = (10,8))\n",
    "sns.distplot(data['distance_km'], bins=300)\n",
    "plt.show()"
   ]
  },
  {
   "cell_type": "markdown",
   "metadata": {},
   "source": [
    "Есть определенные группы поездок, по которым вообще нет данных по расстоянию и длительности. Заполним эти пропуски медианой по классу."
   ]
  },
  {
   "cell_type": "code",
   "execution_count": 134,
   "metadata": {},
   "outputs": [],
   "source": [
    "for offer_class in data['offer_class_group'].unique():\n",
    "    data.loc[data['distance_km'].isnull(), 'distance_km'] = data[data['offer_class_group'] == offer_class]['distance_km'].median()"
   ]
  },
  {
   "cell_type": "code",
   "execution_count": 135,
   "metadata": {},
   "outputs": [],
   "source": [
    "data.loc[data['duration_min'].isnull(), 'duration_min'] = data['distance_km'] / data['speed']"
   ]
  },
  {
   "cell_type": "code",
   "execution_count": 136,
   "metadata": {},
   "outputs": [],
   "source": [
    "data.drop(['speed'], axis=1, inplace = True)"
   ]
  },
  {
   "cell_type": "code",
   "execution_count": 137,
   "metadata": {
    "scrolled": true
   },
   "outputs": [
    {
     "data": {
      "text/plain": [
       "offer_gk             0\n",
       "weekday_key          0\n",
       "hour_key             0\n",
       "driver_gk            0\n",
       "order_gk             0\n",
       "distance_km          0\n",
       "duration_min         0\n",
       "offer_class_group    0\n",
       "ride_type_desc       0\n",
       "driver_response      0\n",
       "dist_unknown         0\n",
       "dist_driver_order    0\n",
       "dur_driver_order     0\n",
       "dtype: int64"
      ]
     },
     "execution_count": 137,
     "metadata": {},
     "output_type": "execute_result"
    }
   ],
   "source": [
    "data.isnull().sum()"
   ]
  },
  {
   "cell_type": "code",
   "execution_count": 138,
   "metadata": {},
   "outputs": [
    {
     "data": {
      "image/png": "[encoded data removed]",
      "text/plain": [
       "<Figure size 720x576 with 1 Axes>"
      ]
     },
     "metadata": {
      "needs_background": "light"
     },
     "output_type": "display_data"
    }
   ],
   "source": [
    "plt.figure(figsize = (10,8))\n",
    "sns.distplot(data['distance_km'], bins=300)\n",
    "plt.show()"
   ]
  },
  {
   "cell_type": "markdown",
   "metadata": {},
   "source": [
    "Теперь все значения показателя дистанции и времени поездки заполнены, а также добавлены дополнительные параметры: поездки, по которым не было информации по дистанции, дистанция и время до клиента"
   ]
  },
  {
   "cell_type": "markdown",
   "metadata": {},
   "source": [
    "Есть класс поездки Test. Всего 8 поездок. Возможно, тестируется новая услуга в такси. Предлагается удалить эти поездки."
   ]
  },
  {
   "cell_type": "code",
   "execution_count": 139,
   "metadata": {},
   "outputs": [
    {
     "data": {
      "text/html": [
       "<div>\n",
       "<style scoped>\n",
       "    .dataframe tbody tr th:only-of-type {\n",
       "        vertical-align: middle;\n",
       "    }\n",
       "\n",
       "    .dataframe tbody tr th {\n",
       "        vertical-align: top;\n",
       "    }\n",
       "\n",
       "    .dataframe thead th {\n",
       "        text-align: right;\n",
       "    }\n",
       "</style>\n",
       "<table border=\"1\" class=\"dataframe\">\n",
       "  <thead>\n",
       "    <tr style=\"text-align: right;\">\n",
       "      <th></th>\n",
       "      <th>offer_gk</th>\n",
       "      <th>weekday_key</th>\n",
       "      <th>hour_key</th>\n",
       "      <th>driver_gk</th>\n",
       "      <th>order_gk</th>\n",
       "      <th>distance_km</th>\n",
       "      <th>duration_min</th>\n",
       "      <th>offer_class_group</th>\n",
       "      <th>ride_type_desc</th>\n",
       "      <th>driver_response</th>\n",
       "      <th>dist_unknown</th>\n",
       "      <th>dist_driver_order</th>\n",
       "      <th>dur_driver_order</th>\n",
       "    </tr>\n",
       "  </thead>\n",
       "  <tbody>\n",
       "    <tr>\n",
       "      <th>11880</th>\n",
       "      <td>849177</td>\n",
       "      <td>5</td>\n",
       "      <td>20</td>\n",
       "      <td>3763</td>\n",
       "      <td>83260</td>\n",
       "      <td>17.2985</td>\n",
       "      <td>23.050191</td>\n",
       "      <td>Test</td>\n",
       "      <td>SMB</td>\n",
       "      <td>0</td>\n",
       "      <td>1.0</td>\n",
       "      <td>0.955213</td>\n",
       "      <td>1.272818</td>\n",
       "    </tr>\n",
       "    <tr>\n",
       "      <th>30622</th>\n",
       "      <td>1122239</td>\n",
       "      <td>3</td>\n",
       "      <td>23</td>\n",
       "      <td>6290</td>\n",
       "      <td>493264</td>\n",
       "      <td>17.2985</td>\n",
       "      <td>21.248691</td>\n",
       "      <td>Test</td>\n",
       "      <td>SMB</td>\n",
       "      <td>0</td>\n",
       "      <td>1.0</td>\n",
       "      <td>0.600328</td>\n",
       "      <td>0.737416</td>\n",
       "    </tr>\n",
       "    <tr>\n",
       "      <th>43323</th>\n",
       "      <td>897797</td>\n",
       "      <td>5</td>\n",
       "      <td>20</td>\n",
       "      <td>591</td>\n",
       "      <td>83260</td>\n",
       "      <td>17.2985</td>\n",
       "      <td>23.050191</td>\n",
       "      <td>Test</td>\n",
       "      <td>SMB</td>\n",
       "      <td>1</td>\n",
       "      <td>1.0</td>\n",
       "      <td>3.166702</td>\n",
       "      <td>4.219620</td>\n",
       "    </tr>\n",
       "    <tr>\n",
       "      <th>53877</th>\n",
       "      <td>954625</td>\n",
       "      <td>1</td>\n",
       "      <td>18</td>\n",
       "      <td>172</td>\n",
       "      <td>203179</td>\n",
       "      <td>17.2985</td>\n",
       "      <td>22.928217</td>\n",
       "      <td>Test</td>\n",
       "      <td>SMB</td>\n",
       "      <td>1</td>\n",
       "      <td>1.0</td>\n",
       "      <td>0.729038</td>\n",
       "      <td>0.966300</td>\n",
       "    </tr>\n",
       "    <tr>\n",
       "      <th>64074</th>\n",
       "      <td>1039723</td>\n",
       "      <td>1</td>\n",
       "      <td>15</td>\n",
       "      <td>1916</td>\n",
       "      <td>357476</td>\n",
       "      <td>17.2985</td>\n",
       "      <td>23.387436</td>\n",
       "      <td>Test</td>\n",
       "      <td>SMB</td>\n",
       "      <td>1</td>\n",
       "      <td>1.0</td>\n",
       "      <td>1.354002</td>\n",
       "      <td>1.830600</td>\n",
       "    </tr>\n",
       "    <tr>\n",
       "      <th>81685</th>\n",
       "      <td>990065</td>\n",
       "      <td>2</td>\n",
       "      <td>14</td>\n",
       "      <td>3371</td>\n",
       "      <td>325838</td>\n",
       "      <td>17.2985</td>\n",
       "      <td>24.190192</td>\n",
       "      <td>Test</td>\n",
       "      <td>SMB</td>\n",
       "      <td>1</td>\n",
       "      <td>1.0</td>\n",
       "      <td>0.568536</td>\n",
       "      <td>0.795040</td>\n",
       "    </tr>\n",
       "    <tr>\n",
       "      <th>94430</th>\n",
       "      <td>159224</td>\n",
       "      <td>5</td>\n",
       "      <td>17</td>\n",
       "      <td>1126</td>\n",
       "      <td>392645</td>\n",
       "      <td>17.2985</td>\n",
       "      <td>26.933888</td>\n",
       "      <td>Test</td>\n",
       "      <td>SMB</td>\n",
       "      <td>1</td>\n",
       "      <td>1.0</td>\n",
       "      <td>0.446646</td>\n",
       "      <td>0.695431</td>\n",
       "    </tr>\n",
       "    <tr>\n",
       "      <th>95973</th>\n",
       "      <td>1060685</td>\n",
       "      <td>3</td>\n",
       "      <td>23</td>\n",
       "      <td>6302</td>\n",
       "      <td>493264</td>\n",
       "      <td>17.2985</td>\n",
       "      <td>21.248691</td>\n",
       "      <td>Test</td>\n",
       "      <td>SMB</td>\n",
       "      <td>1</td>\n",
       "      <td>1.0</td>\n",
       "      <td>0.491273</td>\n",
       "      <td>0.603458</td>\n",
       "    </tr>\n",
       "  </tbody>\n",
       "</table>\n",
       "</div>"
      ],
      "text/plain": [
       "       offer_gk  weekday_key  hour_key  driver_gk  order_gk  distance_km  \\\n",
       "11880    849177            5        20       3763     83260      17.2985   \n",
       "30622   1122239            3        23       6290    493264      17.2985   \n",
       "43323    897797            5        20        591     83260      17.2985   \n",
       "53877    954625            1        18        172    203179      17.2985   \n",
       "64074   1039723            1        15       1916    357476      17.2985   \n",
       "81685    990065            2        14       3371    325838      17.2985   \n",
       "94430    159224            5        17       1126    392645      17.2985   \n",
       "95973   1060685            3        23       6302    493264      17.2985   \n",
       "\n",
       "       duration_min offer_class_group ride_type_desc  driver_response  \\\n",
       "11880     23.050191              Test            SMB                0   \n",
       "30622     21.248691              Test            SMB                0   \n",
       "43323     23.050191              Test            SMB                1   \n",
       "53877     22.928217              Test            SMB                1   \n",
       "64074     23.387436              Test            SMB                1   \n",
       "81685     24.190192              Test            SMB                1   \n",
       "94430     26.933888              Test            SMB                1   \n",
       "95973     21.248691              Test            SMB                1   \n",
       "\n",
       "       dist_unknown  dist_driver_order  dur_driver_order  \n",
       "11880           1.0           0.955213          1.272818  \n",
       "30622           1.0           0.600328          0.737416  \n",
       "43323           1.0           3.166702          4.219620  \n",
       "53877           1.0           0.729038          0.966300  \n",
       "64074           1.0           1.354002          1.830600  \n",
       "81685           1.0           0.568536          0.795040  \n",
       "94430           1.0           0.446646          0.695431  \n",
       "95973           1.0           0.491273          0.603458  "
      ]
     },
     "execution_count": 139,
     "metadata": {},
     "output_type": "execute_result"
    }
   ],
   "source": [
    "data[data['offer_class_group']=='Test']"
   ]
  },
  {
   "cell_type": "code",
   "execution_count": 140,
   "metadata": {},
   "outputs": [],
   "source": [
    "data = data[data['offer_class_group']!='Test']"
   ]
  },
  {
   "cell_type": "markdown",
   "metadata": {},
   "source": [
    "Далее добавим дополнительные признаки по данным категориальных столбцов"
   ]
  },
  {
   "cell_type": "code",
   "execution_count": 60,
   "metadata": {},
   "outputs": [],
   "source": [
    "data.loc[data['weekday_key'].isin([6, 0]), 'weekends'] = 1\n",
    "data.loc[~data['weekday_key'].isin([6, 0]), 'weekends'] = 0\n",
    "\n",
    "data.loc[~data['weekday_key'].isin([6, 0]), 'weekdays'] = 1\n",
    "data.loc[data['weekday_key'].isin([6, 0]), 'weekdays'] = 0"
   ]
  },
  {
   "cell_type": "code",
   "execution_count": 61,
   "metadata": {},
   "outputs": [],
   "source": [
    "data.loc[data['hour_key'].isin([1,2,3,4,5,6]), 'nights'] = 1\n",
    "data.loc[~data['hour_key'].isin([1,2,3,4,5,6]), 'nights'] = 0\n",
    "\n",
    "data.loc[data['hour_key'].isin([7,8,9,10,11,12]), 'mornings'] = 1\n",
    "data.loc[~data['hour_key'].isin([7,8,9,10,11,12]), 'mornings'] = 0\n",
    "\n",
    "data.loc[data['hour_key'].isin([13,14,15,16,17,18]), 'days'] = 1\n",
    "data.loc[~data['hour_key'].isin([13,14,15,16,17,18]), 'days'] = 0\n",
    "\n",
    "data.loc[data['hour_key'].isin([19,20,21,22,23,0]), 'evenings'] = 1\n",
    "data.loc[~data['hour_key'].isin([19,20,21,22,23,0]), 'evenings'] = 0"
   ]
  },
  {
   "cell_type": "code",
   "execution_count": 62,
   "metadata": {},
   "outputs": [],
   "source": [
    "data.drop(['weekday_key', 'hour_key'], axis=1, inplace = True)"
   ]
  },
  {
   "cell_type": "code",
   "execution_count": 63,
   "metadata": {},
   "outputs": [
    {
     "data": {
      "text/html": [
       "<div>\n",
       "<style scoped>\n",
       "    .dataframe tbody tr th:only-of-type {\n",
       "        vertical-align: middle;\n",
       "    }\n",
       "\n",
       "    .dataframe tbody tr th {\n",
       "        vertical-align: top;\n",
       "    }\n",
       "\n",
       "    .dataframe thead th {\n",
       "        text-align: right;\n",
       "    }\n",
       "</style>\n",
       "<table border=\"1\" class=\"dataframe\">\n",
       "  <thead>\n",
       "    <tr style=\"text-align: right;\">\n",
       "      <th></th>\n",
       "      <th>offer_gk</th>\n",
       "      <th>driver_gk</th>\n",
       "      <th>order_gk</th>\n",
       "      <th>distance_km</th>\n",
       "      <th>duration_min</th>\n",
       "      <th>offer_class_group</th>\n",
       "      <th>ride_type_desc</th>\n",
       "      <th>driver_response</th>\n",
       "      <th>dist_unknown</th>\n",
       "      <th>dist_driver_order</th>\n",
       "      <th>dur_driver_order</th>\n",
       "      <th>weekends</th>\n",
       "      <th>weekdays</th>\n",
       "      <th>nights</th>\n",
       "      <th>mornings</th>\n",
       "      <th>days</th>\n",
       "      <th>evenings</th>\n",
       "    </tr>\n",
       "  </thead>\n",
       "  <tbody>\n",
       "    <tr>\n",
       "      <th>0</th>\n",
       "      <td>1105373</td>\n",
       "      <td>6080</td>\n",
       "      <td>174182</td>\n",
       "      <td>17.2985</td>\n",
       "      <td>23.050191</td>\n",
       "      <td>Economy</td>\n",
       "      <td>private</td>\n",
       "      <td>0</td>\n",
       "      <td>1.0</td>\n",
       "      <td>1.363473</td>\n",
       "      <td>1.816823</td>\n",
       "      <td>0.0</td>\n",
       "      <td>1.0</td>\n",
       "      <td>0.0</td>\n",
       "      <td>0.0</td>\n",
       "      <td>0.0</td>\n",
       "      <td>1.0</td>\n",
       "    </tr>\n",
       "    <tr>\n",
       "      <th>1</th>\n",
       "      <td>759733</td>\n",
       "      <td>6080</td>\n",
       "      <td>358774</td>\n",
       "      <td>18.8020</td>\n",
       "      <td>25.217000</td>\n",
       "      <td>Standard</td>\n",
       "      <td>private</td>\n",
       "      <td>1</td>\n",
       "      <td>0.0</td>\n",
       "      <td>3.414164</td>\n",
       "      <td>4.579032</td>\n",
       "      <td>0.0</td>\n",
       "      <td>1.0</td>\n",
       "      <td>0.0</td>\n",
       "      <td>0.0</td>\n",
       "      <td>1.0</td>\n",
       "      <td>0.0</td>\n",
       "    </tr>\n",
       "    <tr>\n",
       "      <th>2</th>\n",
       "      <td>416977</td>\n",
       "      <td>6080</td>\n",
       "      <td>866260</td>\n",
       "      <td>6.7470</td>\n",
       "      <td>9.800000</td>\n",
       "      <td>Economy</td>\n",
       "      <td>private</td>\n",
       "      <td>0</td>\n",
       "      <td>0.0</td>\n",
       "      <td>0.410128</td>\n",
       "      <td>0.595710</td>\n",
       "      <td>1.0</td>\n",
       "      <td>0.0</td>\n",
       "      <td>0.0</td>\n",
       "      <td>0.0</td>\n",
       "      <td>1.0</td>\n",
       "      <td>0.0</td>\n",
       "    </tr>\n",
       "    <tr>\n",
       "      <th>3</th>\n",
       "      <td>889660</td>\n",
       "      <td>6080</td>\n",
       "      <td>163522</td>\n",
       "      <td>17.2985</td>\n",
       "      <td>19.692001</td>\n",
       "      <td>Economy</td>\n",
       "      <td>private</td>\n",
       "      <td>1</td>\n",
       "      <td>1.0</td>\n",
       "      <td>0.647676</td>\n",
       "      <td>0.737291</td>\n",
       "      <td>0.0</td>\n",
       "      <td>1.0</td>\n",
       "      <td>1.0</td>\n",
       "      <td>0.0</td>\n",
       "      <td>0.0</td>\n",
       "      <td>0.0</td>\n",
       "    </tr>\n",
       "    <tr>\n",
       "      <th>4</th>\n",
       "      <td>1120055</td>\n",
       "      <td>6080</td>\n",
       "      <td>506710</td>\n",
       "      <td>12.3830</td>\n",
       "      <td>19.250000</td>\n",
       "      <td>Economy</td>\n",
       "      <td>private</td>\n",
       "      <td>1</td>\n",
       "      <td>0.0</td>\n",
       "      <td>1.062815</td>\n",
       "      <td>1.652200</td>\n",
       "      <td>0.0</td>\n",
       "      <td>1.0</td>\n",
       "      <td>0.0</td>\n",
       "      <td>0.0</td>\n",
       "      <td>1.0</td>\n",
       "      <td>0.0</td>\n",
       "    </tr>\n",
       "  </tbody>\n",
       "</table>\n",
       "</div>"
      ],
      "text/plain": [
       "   offer_gk  driver_gk  order_gk  distance_km  duration_min offer_class_group  \\\n",
       "0   1105373       6080    174182      17.2985     23.050191           Economy   \n",
       "1    759733       6080    358774      18.8020     25.217000          Standard   \n",
       "2    416977       6080    866260       6.7470      9.800000           Economy   \n",
       "3    889660       6080    163522      17.2985     19.692001           Economy   \n",
       "4   1120055       6080    506710      12.3830     19.250000           Economy   \n",
       "\n",
       "  ride_type_desc  driver_response  dist_unknown  dist_driver_order  \\\n",
       "0        private                0           1.0           1.363473   \n",
       "1        private                1           0.0           3.414164   \n",
       "2        private                0           0.0           0.410128   \n",
       "3        private                1           1.0           0.647676   \n",
       "4        private                1           0.0           1.062815   \n",
       "\n",
       "   dur_driver_order  weekends  weekdays  nights  mornings  days  evenings  \n",
       "0          1.816823       0.0       1.0     0.0       0.0   0.0       1.0  \n",
       "1          4.579032       0.0       1.0     0.0       0.0   1.0       0.0  \n",
       "2          0.595710       1.0       0.0     0.0       0.0   1.0       0.0  \n",
       "3          0.737291       0.0       1.0     1.0       0.0   0.0       0.0  \n",
       "4          1.652200       0.0       1.0     0.0       0.0   1.0       0.0  "
      ]
     },
     "execution_count": 63,
     "metadata": {},
     "output_type": "execute_result"
    }
   ],
   "source": [
    "data.head()"
   ]
  },
  {
   "cell_type": "code",
   "execution_count": 64,
   "metadata": {},
   "outputs": [
    {
     "data": {
      "text/plain": [
       "Economy     47695\n",
       "Standard    46654\n",
       "Premium      1734\n",
       "Delivery     1279\n",
       "Kids          576\n",
       "XL            435\n",
       "VIP           215\n",
       "VIP+           29\n",
       "Test            8\n",
       "Name: offer_class_group, dtype: int64"
      ]
     },
     "execution_count": 64,
     "metadata": {},
     "output_type": "execute_result"
    }
   ],
   "source": [
    "data['offer_class_group'].value_counts()"
   ]
  },
  {
   "cell_type": "code",
   "execution_count": 65,
   "metadata": {},
   "outputs": [],
   "source": [
    "offer_class_unique = list(data['offer_class_group'].unique())\n",
    "for offer_class in offer_class_unique:\n",
    "    data.loc[data['offer_class_group'] == offer_class, offer_class] = 1\n",
    "    data.loc[data['offer_class_group'] != offer_class, offer_class] = 0"
   ]
  },
  {
   "cell_type": "code",
   "execution_count": 66,
   "metadata": {},
   "outputs": [],
   "source": [
    "ride_type_unique = list(data['ride_type_desc'].unique())\n",
    "for ride_type in ride_type_unique:\n",
    "    data.loc[data['ride_type_desc'] == ride_type, ride_type] = 1\n",
    "    data.loc[data['ride_type_desc'] != ride_type, ride_type] = 0"
   ]
  },
  {
   "cell_type": "code",
   "execution_count": 67,
   "metadata": {},
   "outputs": [
    {
     "data": {
      "text/html": [
       "<div>\n",
       "<style scoped>\n",
       "    .dataframe tbody tr th:only-of-type {\n",
       "        vertical-align: middle;\n",
       "    }\n",
       "\n",
       "    .dataframe tbody tr th {\n",
       "        vertical-align: top;\n",
       "    }\n",
       "\n",
       "    .dataframe thead th {\n",
       "        text-align: right;\n",
       "    }\n",
       "</style>\n",
       "<table border=\"1\" class=\"dataframe\">\n",
       "  <thead>\n",
       "    <tr style=\"text-align: right;\">\n",
       "      <th></th>\n",
       "      <th>offer_gk</th>\n",
       "      <th>driver_gk</th>\n",
       "      <th>order_gk</th>\n",
       "      <th>distance_km</th>\n",
       "      <th>duration_min</th>\n",
       "      <th>offer_class_group</th>\n",
       "      <th>ride_type_desc</th>\n",
       "      <th>driver_response</th>\n",
       "      <th>dist_unknown</th>\n",
       "      <th>dist_driver_order</th>\n",
       "      <th>...</th>\n",
       "      <th>Kids</th>\n",
       "      <th>Delivery</th>\n",
       "      <th>Test</th>\n",
       "      <th>Premium</th>\n",
       "      <th>VIP</th>\n",
       "      <th>VIP+</th>\n",
       "      <th>private</th>\n",
       "      <th>business</th>\n",
       "      <th>affiliate</th>\n",
       "      <th>SMB</th>\n",
       "    </tr>\n",
       "  </thead>\n",
       "  <tbody>\n",
       "    <tr>\n",
       "      <th>0</th>\n",
       "      <td>1105373</td>\n",
       "      <td>6080</td>\n",
       "      <td>174182</td>\n",
       "      <td>17.2985</td>\n",
       "      <td>23.050191</td>\n",
       "      <td>Economy</td>\n",
       "      <td>private</td>\n",
       "      <td>0</td>\n",
       "      <td>1.0</td>\n",
       "      <td>1.363473</td>\n",
       "      <td>...</td>\n",
       "      <td>0.0</td>\n",
       "      <td>0.0</td>\n",
       "      <td>0.0</td>\n",
       "      <td>0.0</td>\n",
       "      <td>0.0</td>\n",
       "      <td>0.0</td>\n",
       "      <td>1.0</td>\n",
       "      <td>0.0</td>\n",
       "      <td>0.0</td>\n",
       "      <td>0.0</td>\n",
       "    </tr>\n",
       "    <tr>\n",
       "      <th>1</th>\n",
       "      <td>759733</td>\n",
       "      <td>6080</td>\n",
       "      <td>358774</td>\n",
       "      <td>18.8020</td>\n",
       "      <td>25.217000</td>\n",
       "      <td>Standard</td>\n",
       "      <td>private</td>\n",
       "      <td>1</td>\n",
       "      <td>0.0</td>\n",
       "      <td>3.414164</td>\n",
       "      <td>...</td>\n",
       "      <td>0.0</td>\n",
       "      <td>0.0</td>\n",
       "      <td>0.0</td>\n",
       "      <td>0.0</td>\n",
       "      <td>0.0</td>\n",
       "      <td>0.0</td>\n",
       "      <td>1.0</td>\n",
       "      <td>0.0</td>\n",
       "      <td>0.0</td>\n",
       "      <td>0.0</td>\n",
       "    </tr>\n",
       "    <tr>\n",
       "      <th>2</th>\n",
       "      <td>416977</td>\n",
       "      <td>6080</td>\n",
       "      <td>866260</td>\n",
       "      <td>6.7470</td>\n",
       "      <td>9.800000</td>\n",
       "      <td>Economy</td>\n",
       "      <td>private</td>\n",
       "      <td>0</td>\n",
       "      <td>0.0</td>\n",
       "      <td>0.410128</td>\n",
       "      <td>...</td>\n",
       "      <td>0.0</td>\n",
       "      <td>0.0</td>\n",
       "      <td>0.0</td>\n",
       "      <td>0.0</td>\n",
       "      <td>0.0</td>\n",
       "      <td>0.0</td>\n",
       "      <td>1.0</td>\n",
       "      <td>0.0</td>\n",
       "      <td>0.0</td>\n",
       "      <td>0.0</td>\n",
       "    </tr>\n",
       "    <tr>\n",
       "      <th>3</th>\n",
       "      <td>889660</td>\n",
       "      <td>6080</td>\n",
       "      <td>163522</td>\n",
       "      <td>17.2985</td>\n",
       "      <td>19.692001</td>\n",
       "      <td>Economy</td>\n",
       "      <td>private</td>\n",
       "      <td>1</td>\n",
       "      <td>1.0</td>\n",
       "      <td>0.647676</td>\n",
       "      <td>...</td>\n",
       "      <td>0.0</td>\n",
       "      <td>0.0</td>\n",
       "      <td>0.0</td>\n",
       "      <td>0.0</td>\n",
       "      <td>0.0</td>\n",
       "      <td>0.0</td>\n",
       "      <td>1.0</td>\n",
       "      <td>0.0</td>\n",
       "      <td>0.0</td>\n",
       "      <td>0.0</td>\n",
       "    </tr>\n",
       "    <tr>\n",
       "      <th>4</th>\n",
       "      <td>1120055</td>\n",
       "      <td>6080</td>\n",
       "      <td>506710</td>\n",
       "      <td>12.3830</td>\n",
       "      <td>19.250000</td>\n",
       "      <td>Economy</td>\n",
       "      <td>private</td>\n",
       "      <td>1</td>\n",
       "      <td>0.0</td>\n",
       "      <td>1.062815</td>\n",
       "      <td>...</td>\n",
       "      <td>0.0</td>\n",
       "      <td>0.0</td>\n",
       "      <td>0.0</td>\n",
       "      <td>0.0</td>\n",
       "      <td>0.0</td>\n",
       "      <td>0.0</td>\n",
       "      <td>1.0</td>\n",
       "      <td>0.0</td>\n",
       "      <td>0.0</td>\n",
       "      <td>0.0</td>\n",
       "    </tr>\n",
       "  </tbody>\n",
       "</table>\n",
       "<p>5 rows × 30 columns</p>\n",
       "</div>"
      ],
      "text/plain": [
       "   offer_gk  driver_gk  order_gk  distance_km  duration_min offer_class_group  \\\n",
       "0   1105373       6080    174182      17.2985     23.050191           Economy   \n",
       "1    759733       6080    358774      18.8020     25.217000          Standard   \n",
       "2    416977       6080    866260       6.7470      9.800000           Economy   \n",
       "3    889660       6080    163522      17.2985     19.692001           Economy   \n",
       "4   1120055       6080    506710      12.3830     19.250000           Economy   \n",
       "\n",
       "  ride_type_desc  driver_response  dist_unknown  dist_driver_order  ...  Kids  \\\n",
       "0        private                0           1.0           1.363473  ...   0.0   \n",
       "1        private                1           0.0           3.414164  ...   0.0   \n",
       "2        private                0           0.0           0.410128  ...   0.0   \n",
       "3        private                1           1.0           0.647676  ...   0.0   \n",
       "4        private                1           0.0           1.062815  ...   0.0   \n",
       "\n",
       "   Delivery  Test  Premium  VIP  VIP+  private  business  affiliate  SMB  \n",
       "0       0.0   0.0      0.0  0.0   0.0      1.0       0.0        0.0  0.0  \n",
       "1       0.0   0.0      0.0  0.0   0.0      1.0       0.0        0.0  0.0  \n",
       "2       0.0   0.0      0.0  0.0   0.0      1.0       0.0        0.0  0.0  \n",
       "3       0.0   0.0      0.0  0.0   0.0      1.0       0.0        0.0  0.0  \n",
       "4       0.0   0.0      0.0  0.0   0.0      1.0       0.0        0.0  0.0  \n",
       "\n",
       "[5 rows x 30 columns]"
      ]
     },
     "execution_count": 67,
     "metadata": {},
     "output_type": "execute_result"
    }
   ],
   "source": [
    "data.head()"
   ]
  },
  {
   "cell_type": "markdown",
   "metadata": {},
   "source": [
    "И удалим категориальные столбцы и столбцы с идентификаторами поездки, заказа и водителя"
   ]
  },
  {
   "cell_type": "code",
   "execution_count": 68,
   "metadata": {},
   "outputs": [],
   "source": [
    "data.drop(['offer_gk', 'driver_gk', 'order_gk', 'offer_class_group', 'ride_type_desc'], axis=1, inplace = True)"
   ]
  },
  {
   "cell_type": "code",
   "execution_count": 69,
   "metadata": {
    "scrolled": true
   },
   "outputs": [
    {
     "data": {
      "text/html": [
       "<div>\n",
       "<style scoped>\n",
       "    .dataframe tbody tr th:only-of-type {\n",
       "        vertical-align: middle;\n",
       "    }\n",
       "\n",
       "    .dataframe tbody tr th {\n",
       "        vertical-align: top;\n",
       "    }\n",
       "\n",
       "    .dataframe thead th {\n",
       "        text-align: right;\n",
       "    }\n",
       "</style>\n",
       "<table border=\"1\" class=\"dataframe\">\n",
       "  <thead>\n",
       "    <tr style=\"text-align: right;\">\n",
       "      <th></th>\n",
       "      <th>distance_km</th>\n",
       "      <th>duration_min</th>\n",
       "      <th>driver_response</th>\n",
       "      <th>dist_unknown</th>\n",
       "      <th>dist_driver_order</th>\n",
       "      <th>dur_driver_order</th>\n",
       "      <th>weekends</th>\n",
       "      <th>weekdays</th>\n",
       "      <th>nights</th>\n",
       "      <th>mornings</th>\n",
       "      <th>...</th>\n",
       "      <th>Kids</th>\n",
       "      <th>Delivery</th>\n",
       "      <th>Test</th>\n",
       "      <th>Premium</th>\n",
       "      <th>VIP</th>\n",
       "      <th>VIP+</th>\n",
       "      <th>private</th>\n",
       "      <th>business</th>\n",
       "      <th>affiliate</th>\n",
       "      <th>SMB</th>\n",
       "    </tr>\n",
       "  </thead>\n",
       "  <tbody>\n",
       "    <tr>\n",
       "      <th>0</th>\n",
       "      <td>17.2985</td>\n",
       "      <td>23.050191</td>\n",
       "      <td>0</td>\n",
       "      <td>1.0</td>\n",
       "      <td>1.363473</td>\n",
       "      <td>1.816823</td>\n",
       "      <td>0.0</td>\n",
       "      <td>1.0</td>\n",
       "      <td>0.0</td>\n",
       "      <td>0.0</td>\n",
       "      <td>...</td>\n",
       "      <td>0.0</td>\n",
       "      <td>0.0</td>\n",
       "      <td>0.0</td>\n",
       "      <td>0.0</td>\n",
       "      <td>0.0</td>\n",
       "      <td>0.0</td>\n",
       "      <td>1.0</td>\n",
       "      <td>0.0</td>\n",
       "      <td>0.0</td>\n",
       "      <td>0.0</td>\n",
       "    </tr>\n",
       "    <tr>\n",
       "      <th>1</th>\n",
       "      <td>18.8020</td>\n",
       "      <td>25.217000</td>\n",
       "      <td>1</td>\n",
       "      <td>0.0</td>\n",
       "      <td>3.414164</td>\n",
       "      <td>4.579032</td>\n",
       "      <td>0.0</td>\n",
       "      <td>1.0</td>\n",
       "      <td>0.0</td>\n",
       "      <td>0.0</td>\n",
       "      <td>...</td>\n",
       "      <td>0.0</td>\n",
       "      <td>0.0</td>\n",
       "      <td>0.0</td>\n",
       "      <td>0.0</td>\n",
       "      <td>0.0</td>\n",
       "      <td>0.0</td>\n",
       "      <td>1.0</td>\n",
       "      <td>0.0</td>\n",
       "      <td>0.0</td>\n",
       "      <td>0.0</td>\n",
       "    </tr>\n",
       "    <tr>\n",
       "      <th>2</th>\n",
       "      <td>6.7470</td>\n",
       "      <td>9.800000</td>\n",
       "      <td>0</td>\n",
       "      <td>0.0</td>\n",
       "      <td>0.410128</td>\n",
       "      <td>0.595710</td>\n",
       "      <td>1.0</td>\n",
       "      <td>0.0</td>\n",
       "      <td>0.0</td>\n",
       "      <td>0.0</td>\n",
       "      <td>...</td>\n",
       "      <td>0.0</td>\n",
       "      <td>0.0</td>\n",
       "      <td>0.0</td>\n",
       "      <td>0.0</td>\n",
       "      <td>0.0</td>\n",
       "      <td>0.0</td>\n",
       "      <td>1.0</td>\n",
       "      <td>0.0</td>\n",
       "      <td>0.0</td>\n",
       "      <td>0.0</td>\n",
       "    </tr>\n",
       "    <tr>\n",
       "      <th>3</th>\n",
       "      <td>17.2985</td>\n",
       "      <td>19.692001</td>\n",
       "      <td>1</td>\n",
       "      <td>1.0</td>\n",
       "      <td>0.647676</td>\n",
       "      <td>0.737291</td>\n",
       "      <td>0.0</td>\n",
       "      <td>1.0</td>\n",
       "      <td>1.0</td>\n",
       "      <td>0.0</td>\n",
       "      <td>...</td>\n",
       "      <td>0.0</td>\n",
       "      <td>0.0</td>\n",
       "      <td>0.0</td>\n",
       "      <td>0.0</td>\n",
       "      <td>0.0</td>\n",
       "      <td>0.0</td>\n",
       "      <td>1.0</td>\n",
       "      <td>0.0</td>\n",
       "      <td>0.0</td>\n",
       "      <td>0.0</td>\n",
       "    </tr>\n",
       "    <tr>\n",
       "      <th>4</th>\n",
       "      <td>12.3830</td>\n",
       "      <td>19.250000</td>\n",
       "      <td>1</td>\n",
       "      <td>0.0</td>\n",
       "      <td>1.062815</td>\n",
       "      <td>1.652200</td>\n",
       "      <td>0.0</td>\n",
       "      <td>1.0</td>\n",
       "      <td>0.0</td>\n",
       "      <td>0.0</td>\n",
       "      <td>...</td>\n",
       "      <td>0.0</td>\n",
       "      <td>0.0</td>\n",
       "      <td>0.0</td>\n",
       "      <td>0.0</td>\n",
       "      <td>0.0</td>\n",
       "      <td>0.0</td>\n",
       "      <td>1.0</td>\n",
       "      <td>0.0</td>\n",
       "      <td>0.0</td>\n",
       "      <td>0.0</td>\n",
       "    </tr>\n",
       "  </tbody>\n",
       "</table>\n",
       "<p>5 rows × 25 columns</p>\n",
       "</div>"
      ],
      "text/plain": [
       "   distance_km  duration_min  driver_response  dist_unknown  \\\n",
       "0      17.2985     23.050191                0           1.0   \n",
       "1      18.8020     25.217000                1           0.0   \n",
       "2       6.7470      9.800000                0           0.0   \n",
       "3      17.2985     19.692001                1           1.0   \n",
       "4      12.3830     19.250000                1           0.0   \n",
       "\n",
       "   dist_driver_order  dur_driver_order  weekends  weekdays  nights  mornings  \\\n",
       "0           1.363473          1.816823       0.0       1.0     0.0       0.0   \n",
       "1           3.414164          4.579032       0.0       1.0     0.0       0.0   \n",
       "2           0.410128          0.595710       1.0       0.0     0.0       0.0   \n",
       "3           0.647676          0.737291       0.0       1.0     1.0       0.0   \n",
       "4           1.062815          1.652200       0.0       1.0     0.0       0.0   \n",
       "\n",
       "   ...  Kids  Delivery  Test  Premium  VIP  VIP+  private  business  \\\n",
       "0  ...   0.0       0.0   0.0      0.0  0.0   0.0      1.0       0.0   \n",
       "1  ...   0.0       0.0   0.0      0.0  0.0   0.0      1.0       0.0   \n",
       "2  ...   0.0       0.0   0.0      0.0  0.0   0.0      1.0       0.0   \n",
       "3  ...   0.0       0.0   0.0      0.0  0.0   0.0      1.0       0.0   \n",
       "4  ...   0.0       0.0   0.0      0.0  0.0   0.0      1.0       0.0   \n",
       "\n",
       "   affiliate  SMB  \n",
       "0        0.0  0.0  \n",
       "1        0.0  0.0  \n",
       "2        0.0  0.0  \n",
       "3        0.0  0.0  \n",
       "4        0.0  0.0  \n",
       "\n",
       "[5 rows x 25 columns]"
      ]
     },
     "execution_count": 69,
     "metadata": {},
     "output_type": "execute_result"
    }
   ],
   "source": [
    "data.head()"
   ]
  },
  {
   "cell_type": "markdown",
   "metadata": {},
   "source": [
    "Посмотрим на матрицу корреляций"
   ]
  },
  {
   "cell_type": "code",
   "execution_count": 78,
   "metadata": {},
   "outputs": [
    {
     "data": {
      "image/png": "[encoded data removed]",
      "text/plain": [
       "<Figure size 2160x2160 with 2 Axes>"
      ]
     },
     "metadata": {
      "needs_background": "light"
     },
     "output_type": "display_data"
    }
   ],
   "source": [
    "sns.heatmap(data.corr(),annot=True,cmap='RdYlGn',linewidths=0.1)\n",
    "fig=plt.gcf()\n",
    "fig.set_size_inches(30, 30)\n",
    "plt.show()"
   ]
  },
  {
   "cell_type": "markdown",
   "metadata": {},
   "source": [
    "Так как целевой параметр driver_response очень слабо коррелирует с любым из других параметров, можно предположить, что нужно будет строить нелинейную модель"
   ]
  },
  {
   "cell_type": "markdown",
   "metadata": {},
   "source": [
    "#### Приступим к обучению модели"
   ]
  },
  {
   "cell_type": "code",
   "execution_count": 70,
   "metadata": {},
   "outputs": [],
   "source": [
    "X = data.drop(['driver_response'], axis=1)\n",
    "y = data['driver_response']"
   ]
  },
  {
   "cell_type": "markdown",
   "metadata": {},
   "source": [
    "Разделил датасет на все параметры, влияющие на целевой показатель, и сам целевой показатель"
   ]
  },
  {
   "cell_type": "code",
   "execution_count": 71,
   "metadata": {},
   "outputs": [],
   "source": [
    "minmax_scaler = MinMaxScaler()\n",
    "X = pd.DataFrame(minmax_scaler.fit_transform(X), columns=X.columns)"
   ]
  },
  {
   "cell_type": "markdown",
   "metadata": {},
   "source": [
    "Произвел нормализацию данных с помощью MinMaxScaler."
   ]
  },
  {
   "cell_type": "code",
   "execution_count": 72,
   "metadata": {},
   "outputs": [],
   "source": [
    "X_train, X_test, y_train, y_test = train_test_split(X, y, test_size = 0.2)"
   ]
  },
  {
   "cell_type": "markdown",
   "metadata": {},
   "source": [
    "Разделил данные на 80% тренировочных и на 20% тестовых"
   ]
  },
  {
   "cell_type": "code",
   "execution_count": 73,
   "metadata": {},
   "outputs": [
    {
     "name": "stdout",
     "output_type": "stream",
     "text": [
      "0.16590098034632983\n",
      "0.6959695817490494\n",
      "0.7185804816223067\n"
     ]
    }
   ],
   "source": [
    "def train_model(columns):\n",
    "    linear_model = LinearRegression()\n",
    "    forest_model = RandomForestClassifier()\n",
    "    xgb_model = XGBClassifier()\n",
    "\n",
    "    linear_model.fit(X_train[columns], y_train)\n",
    "    forest_model.fit(X_train[columns], y_train)\n",
    "    xgb_model.fit(X_train[columns], y_train)\n",
    "    prediction_1 = linear_model.predict(X_test[columns])\n",
    "    prediction_2 = forest_model.predict(X_test[columns])\n",
    "    prediction_3 = xgb_model.predict(X_test[columns])\n",
    "\n",
    "    print(linear_model.score(X_test[columns], y_test))\n",
    "    print(forest_model.score(X_test[columns], y_test))\n",
    "    print(xgb_model.score(X_test[columns], y_test))\n",
    "\n",
    "train_model(X.columns)"
   ]
  },
  {
   "cell_type": "markdown",
   "metadata": {},
   "source": [
    "Наилучший результат дает классификатор XGBoost. Далее проведем подбор параметров, с которым данный классификатор даст наиболее высокий результат. "
   ]
  },
  {
   "cell_type": "code",
   "execution_count": 74,
   "metadata": {
    "scrolled": false
   },
   "outputs": [
    {
     "name": "stdout",
     "output_type": "stream",
     "text": [
      "Accuracy: 71.86%\n",
      "Thresh=0.000, n=24, Accuracy: 71.86%\n",
      "Thresh=0.002, n=23, Accuracy: 71.86%\n",
      "Thresh=0.004, n=22, Accuracy: 71.63%\n",
      "Thresh=0.004, n=21, Accuracy: 71.84%\n",
      "Thresh=0.006, n=20, Accuracy: 71.71%\n",
      "Thresh=0.012, n=19, Accuracy: 71.76%\n",
      "Thresh=0.015, n=18, Accuracy: 71.66%\n",
      "Thresh=0.019, n=17, Accuracy: 71.67%\n",
      "Thresh=0.020, n=16, Accuracy: 71.70%\n",
      "Thresh=0.022, n=15, Accuracy: 71.93%\n",
      "Thresh=0.022, n=14, Accuracy: 71.67%\n",
      "Thresh=0.024, n=13, Accuracy: 71.69%\n",
      "Thresh=0.037, n=12, Accuracy: 71.67%\n",
      "Thresh=0.043, n=11, Accuracy: 71.58%\n",
      "Thresh=0.045, n=10, Accuracy: 71.58%\n",
      "Thresh=0.050, n=9, Accuracy: 71.55%\n",
      "Thresh=0.052, n=8, Accuracy: 71.39%\n",
      "Thresh=0.055, n=7, Accuracy: 71.61%\n",
      "Thresh=0.059, n=6, Accuracy: 71.53%\n",
      "Thresh=0.064, n=5, Accuracy: 67.01%\n",
      "Thresh=0.065, n=4, Accuracy: 66.70%\n",
      "Thresh=0.111, n=3, Accuracy: 65.33%\n",
      "Thresh=0.134, n=2, Accuracy: 65.10%\n",
      "Thresh=0.136, n=1, Accuracy: 64.49%\n"
     ]
    }
   ],
   "source": [
    "class MyXGBClassifier(XGBClassifier):\n",
    "    @property\n",
    "    def coef_(self):\n",
    "        return None\n",
    "\n",
    "model = MyXGBClassifier()\n",
    "model.fit(X_train, y_train)\n",
    "predictions = model.predict(X_test)\n",
    "accuracy = accuracy_score(y_test, predictions)\n",
    "print(\"Accuracy: %.2f%%\" % (accuracy * 100.0))\n",
    "thresholds = sort(model.feature_importances_)\n",
    "for thresh in thresholds:\n",
    "    selection = SelectFromModel(model, threshold=thresh, prefit=True)\n",
    "    select_X_train = selection.transform(X_train)\n",
    "    selection_model = XGBClassifier()\n",
    "    selection_model.fit(select_X_train, y_train)\n",
    "    select_X_test = selection.transform(X_test)\n",
    "    predictions = selection_model.predict(select_X_test)\n",
    "    accuracy = accuracy_score(y_test, predictions)\n",
    "    print(\"Thresh=%.3f, n=%d, Accuracy: %.2f%%\" % (thresh, select_X_train.shape[1], accuracy*100.0))"
   ]
  },
  {
   "cell_type": "markdown",
   "metadata": {},
   "source": [
    "Наилучший результат (точность модели на тестовых данных 71.86%) получается при использовании всех 24 параметров."
   ]
  }
 ],
 "metadata": {
  "kernelspec": {
   "display_name": "Python 3",
   "language": "python",
   "name": "python3"
  },
  "language_info": {
   "codemirror_mode": {
    "name": "ipython",
    "version": 3
   },
   "file_extension": ".py",
   "mimetype": "text/x-python",
   "name": "python",
   "nbconvert_exporter": "python",
   "pygments_lexer": "ipython3",
   "version": "3.7.4"
  }
 },
 "nbformat": 4,
 "nbformat_minor": 1
}
