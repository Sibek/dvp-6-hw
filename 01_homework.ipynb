{
 "cells": [
  {
   "cell_type": "code",
   "execution_count": 92,
   "metadata": {},
   "outputs": [],
   "source": [
    "import numpy as np\n",
    "import pandas as pd\n",
    "\n",
    "from sklearn.linear_model import LinearRegression\n",
    "from sklearn.metrics import mean_absolute_error"
   ]
  },
  {
   "cell_type": "code",
   "execution_count": 93,
   "metadata": {
    "scrolled": false
   },
   "outputs": [
    {
     "data": {
      "text/html": [
       "<div>\n",
       "<table class=\"dataframe\">\n",
       "  <thead>\n",
       "    <tr style=\"text-align: right;\">\n",
       "      <th></th>\n",
       "      <th>high/low tide</th>\n",
       "      <th>periods</th>\n",
       "      <th>surfing raiting</th>\n",
       "      <th>swell energy</th>\n",
       "      <th>temperature</th>\n",
       "      <th>wawes height</th>\n",
       "      <th>wind speed</th>\n",
       "    </tr>\n",
       "  </thead>\n",
       "  <tbody>\n",
       "    <tr>\n",
       "      <th>0</th>\n",
       "      <td>1</td>\n",
       "      <td>19</td>\n",
       "      <td>3.263435</td>\n",
       "      <td>2045</td>\n",
       "      <td>33</td>\n",
       "      <td>6</td>\n",
       "      <td>129</td>\n",
       "    </tr>\n",
       "    <tr>\n",
       "      <th>1</th>\n",
       "      <td>1</td>\n",
       "      <td>23</td>\n",
       "      <td>3.601990</td>\n",
       "      <td>2091</td>\n",
       "      <td>19</td>\n",
       "      <td>8</td>\n",
       "      <td>124</td>\n",
       "    </tr>\n",
       "    <tr>\n",
       "      <th>2</th>\n",
       "      <td>2</td>\n",
       "      <td>19</td>\n",
       "      <td>3.389481</td>\n",
       "      <td>1541</td>\n",
       "      <td>24</td>\n",
       "      <td>7</td>\n",
       "      <td>79</td>\n",
       "    </tr>\n",
       "    <tr>\n",
       "      <th>3</th>\n",
       "      <td>2</td>\n",
       "      <td>17</td>\n",
       "      <td>3.587359</td>\n",
       "      <td>4827</td>\n",
       "      <td>12</td>\n",
       "      <td>6</td>\n",
       "      <td>42</td>\n",
       "    </tr>\n",
       "    <tr>\n",
       "      <th>4</th>\n",
       "      <td>2</td>\n",
       "      <td>19</td>\n",
       "      <td>3.488371</td>\n",
       "      <td>3065</td>\n",
       "      <td>31</td>\n",
       "      <td>3</td>\n",
       "      <td>105</td>\n",
       "    </tr>\n",
       "  </tbody>\n",
       "</table>\n",
       "</div>"
      ],
      "text/plain": [
       "   high/low tide  periods  surfing raiting  swell energy  temperature  \\\n",
       "0              1       19         3.263435          2045           33   \n",
       "1              1       23         3.601990          2091           19   \n",
       "2              2       19         3.389481          1541           24   \n",
       "3              2       17         3.587359          4827           12   \n",
       "4              2       19         3.488371          3065           31   \n",
       "\n",
       "   wawes height  wind speed  \n",
       "0             6         129  \n",
       "1             8         124  \n",
       "2             7          79  \n",
       "3             6          42  \n",
       "4             3         105  "
      ]
     },
     "execution_count": 93,
     "metadata": {},
     "output_type": "execute_result"
    }
   ],
   "source": [
    "n_samples = 500\n",
    "\n",
    "swell = np.random.choice(4000, n_samples) + 1000\n",
    "wind = np.random.choice(120, n_samples) + 15\n",
    "wawes = np.random.choice(10, n_samples) + 1\n",
    "tide = np.random.choice(2, n_samples) + 1\n",
    "periods = np.random.choice(20, n_samples) + 5\n",
    "temperature = np.random.choice(30, n_samples) + 10\n",
    "\n",
    "surfing_raiting = (swell/4999 + wind/134 + wawes/10 + tide/2 + periods/24)\n",
    "\n",
    "data = pd.DataFrame({'swell energy': swell, \n",
    "                     'wind speed': wind, \n",
    "                     'wawes height': wawes, \n",
    "                     'high/low tide': tide,\n",
    "                     'periods': periods,\n",
    "                     'temperature': temperature,\n",
    "                     'surfing raiting': surfing_raiting})\n",
    "data.head(5)"
   ]
  },
  {
   "cell_type": "code",
   "execution_count": 94,
   "metadata": {},
   "outputs": [
    {
     "data": {
      "text/html": [
       "<div>\n",
       "<table class=\"dataframe\">\n",
       "  <thead>\n",
       "    <tr style=\"text-align: right;\">\n",
       "      <th></th>\n",
       "      <th>high/low tide</th>\n",
       "      <th>periods</th>\n",
       "      <th>surfing raiting</th>\n",
       "      <th>swell energy</th>\n",
       "      <th>temperature</th>\n",
       "      <th>wawes height</th>\n",
       "      <th>wind speed</th>\n",
       "    </tr>\n",
       "  </thead>\n",
       "  <tbody>\n",
       "    <tr>\n",
       "      <th>count</th>\n",
       "      <td>500.000000</td>\n",
       "      <td>500.000000</td>\n",
       "      <td>500.000000</td>\n",
       "      <td>500.000000</td>\n",
       "      <td>500.000000</td>\n",
       "      <td>500.000000</td>\n",
       "      <td>500.000000</td>\n",
       "    </tr>\n",
       "    <tr>\n",
       "      <th>mean</th>\n",
       "      <td>1.524000</td>\n",
       "      <td>14.442000</td>\n",
       "      <td>3.067211</td>\n",
       "      <td>2950.610000</td>\n",
       "      <td>24.832000</td>\n",
       "      <td>5.454000</td>\n",
       "      <td>76.088000</td>\n",
       "    </tr>\n",
       "    <tr>\n",
       "      <th>std</th>\n",
       "      <td>0.499924</td>\n",
       "      <td>5.759251</td>\n",
       "      <td>0.577594</td>\n",
       "      <td>1133.850219</td>\n",
       "      <td>8.597652</td>\n",
       "      <td>2.840426</td>\n",
       "      <td>35.895756</td>\n",
       "    </tr>\n",
       "    <tr>\n",
       "      <th>min</th>\n",
       "      <td>1.000000</td>\n",
       "      <td>5.000000</td>\n",
       "      <td>1.323222</td>\n",
       "      <td>1024.000000</td>\n",
       "      <td>10.000000</td>\n",
       "      <td>1.000000</td>\n",
       "      <td>15.000000</td>\n",
       "    </tr>\n",
       "    <tr>\n",
       "      <th>25%</th>\n",
       "      <td>1.000000</td>\n",
       "      <td>10.000000</td>\n",
       "      <td>2.670445</td>\n",
       "      <td>1963.750000</td>\n",
       "      <td>17.000000</td>\n",
       "      <td>3.000000</td>\n",
       "      <td>44.000000</td>\n",
       "    </tr>\n",
       "    <tr>\n",
       "      <th>50%</th>\n",
       "      <td>2.000000</td>\n",
       "      <td>14.500000</td>\n",
       "      <td>3.081170</td>\n",
       "      <td>3004.000000</td>\n",
       "      <td>24.500000</td>\n",
       "      <td>5.000000</td>\n",
       "      <td>76.500000</td>\n",
       "    </tr>\n",
       "    <tr>\n",
       "      <th>75%</th>\n",
       "      <td>2.000000</td>\n",
       "      <td>19.000000</td>\n",
       "      <td>3.451191</td>\n",
       "      <td>3855.000000</td>\n",
       "      <td>33.000000</td>\n",
       "      <td>8.000000</td>\n",
       "      <td>107.000000</td>\n",
       "    </tr>\n",
       "    <tr>\n",
       "      <th>max</th>\n",
       "      <td>2.000000</td>\n",
       "      <td>24.000000</td>\n",
       "      <td>4.795934</td>\n",
       "      <td>4996.000000</td>\n",
       "      <td>39.000000</td>\n",
       "      <td>10.000000</td>\n",
       "      <td>134.000000</td>\n",
       "    </tr>\n",
       "  </tbody>\n",
       "</table>\n",
       "</div>"
      ],
      "text/plain": [
       "       high/low tide     periods  surfing raiting  swell energy  temperature  \\\n",
       "count     500.000000  500.000000       500.000000    500.000000   500.000000   \n",
       "mean        1.524000   14.442000         3.067211   2950.610000    24.832000   \n",
       "std         0.499924    5.759251         0.577594   1133.850219     8.597652   \n",
       "min         1.000000    5.000000         1.323222   1024.000000    10.000000   \n",
       "25%         1.000000   10.000000         2.670445   1963.750000    17.000000   \n",
       "50%         2.000000   14.500000         3.081170   3004.000000    24.500000   \n",
       "75%         2.000000   19.000000         3.451191   3855.000000    33.000000   \n",
       "max         2.000000   24.000000         4.795934   4996.000000    39.000000   \n",
       "\n",
       "       wawes height  wind speed  \n",
       "count    500.000000  500.000000  \n",
       "mean       5.454000   76.088000  \n",
       "std        2.840426   35.895756  \n",
       "min        1.000000   15.000000  \n",
       "25%        3.000000   44.000000  \n",
       "50%        5.000000   76.500000  \n",
       "75%        8.000000  107.000000  \n",
       "max       10.000000  134.000000  "
      ]
     },
     "execution_count": 94,
     "metadata": {},
     "output_type": "execute_result"
    }
   ],
   "source": [
    "data.describe()"
   ]
  },
  {
   "cell_type": "code",
   "execution_count": 95,
   "metadata": {},
   "outputs": [
    {
     "name": "stdout",
     "output_type": "stream",
     "text": [
      "Weights: [0.0425767  0.00699869 0.00159465]\n",
      "Bias: 1.8802038529241587\n",
      "Error: 0.36675139244544297\n"
     ]
    }
   ],
   "source": [
    "X = data[['periods', 'wind speed', 'temperature']]\n",
    "y = data['surfing raiting']\n",
    "reg = LinearRegression().fit(X, y)\n",
    "print('Weights: {}'.format(reg.coef_))\n",
    "print('Bias: {}'.format(reg.intercept_))\n",
    "\n",
    "pred_values = reg.predict(data[['periods', 'wind speed', 'temperature']])\n",
    "print('Error: {}'.format(mean_absolute_error(pred_values, y)))"
   ]
  },
  {
   "cell_type": "code",
   "execution_count": 96,
   "metadata": {},
   "outputs": [
    {
     "name": "stdout",
     "output_type": "stream",
     "text": [
      "Weights: [0.04250292 0.00697444]\n",
      "Bias: 1.9227129872055326\n",
      "Error: 0.3671052383444326\n"
     ]
    }
   ],
   "source": [
    "X = data[['periods', 'wind speed']]\n",
    "y = data['surfing raiting']\n",
    "reg = LinearRegression().fit(X, y)\n",
    "print('Weights: {}'.format(reg.coef_))\n",
    "print('Bias: {}'.format(reg.intercept_))\n",
    "\n",
    "pred_values = reg.predict(data[['periods', 'wind speed']])\n",
    "print('Error: {}'.format(mean_absolute_error(pred_values, y)))"
   ]
  },
  {
   "cell_type": "code",
   "execution_count": 97,
   "metadata": {},
   "outputs": [
    {
     "name": "stdout",
     "output_type": "stream",
     "text": [
      "Weights: [4.16666667e-02 7.46268657e-03 2.00040008e-04 1.00000000e-01\n",
      " 5.00000000e-01 2.62861343e-17]\n",
      "Bias: -8.881784197001252e-16\n",
      "Error: 8.020251129892131e-16\n"
     ]
    }
   ],
   "source": [
    "X = data[['periods', 'wind speed', 'swell energy', 'wawes height', 'high/low tide', 'temperature']]\n",
    "y = data['surfing raiting']\n",
    "reg = LinearRegression().fit(X, y)\n",
    "print('Weights: {}'.format(reg.coef_))\n",
    "print('Bias: {}'.format(reg.intercept_))\n",
    "\n",
    "pred_values = reg.predict(data[['periods', 'wind speed', 'swell energy', 'wawes height', 'high/low tide', 'temperature']])\n",
    "print('Error: {}'.format(mean_absolute_error(pred_values, y)))"
   ]
  },
  {
   "cell_type": "code",
   "execution_count": 98,
   "metadata": {},
   "outputs": [
    {
     "name": "stdout",
     "output_type": "stream",
     "text": [
      "Weights: [4.16666667e-02 7.46268657e-03 2.00040008e-04 1.00000000e-01\n",
      " 5.00000000e-01]\n",
      "Bias: 0.0\n",
      "Error: 9.58344514856435e-16\n"
     ]
    }
   ],
   "source": [
    "X = data[['periods', 'wind speed', 'swell energy', 'wawes height', 'high/low tide']]\n",
    "y = data['surfing raiting']\n",
    "reg = LinearRegression().fit(X, y)\n",
    "print('Weights: {}'.format(reg.coef_))\n",
    "print('Bias: {}'.format(reg.intercept_))\n",
    "\n",
    "pred_values = reg.predict(data[['periods', 'wind speed', 'swell energy', 'wawes height', 'high/low tide']])\n",
    "print('Error: {}'.format(mean_absolute_error(pred_values, y)))"
   ]
  }
 ],
 "metadata": {
  "kernelspec": {
   "display_name": "Python 3",
   "language": "python",
   "name": "python3"
  },
  "language_info": {
   "codemirror_mode": {
    "name": "ipython",
    "version": 3
   },
   "file_extension": ".py",
   "mimetype": "text/x-python",
   "name": "python",
   "nbconvert_exporter": "python",
   "pygments_lexer": "ipython3",
   "version": "3.5.4"
  }
 },
 "nbformat": 4,
 "nbformat_minor": 1
}
