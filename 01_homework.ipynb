{
 "cells": [
  {
   "cell_type": "code",
   "execution_count": 1,
   "metadata": {},
   "outputs": [],
   "source": [
    "import numpy as np\n",
    "import pandas as pd\n",
    "\n",
    "from sklearn.linear_model import LinearRegression"
   ]
  },
  {
   "cell_type": "code",
   "execution_count": 26,
   "metadata": {
    "scrolled": true
   },
   "outputs": [
    {
     "data": {
      "text/html": [
       "<div>\n",
       "<style scoped>\n",
       "    .dataframe tbody tr th:only-of-type {\n",
       "        vertical-align: middle;\n",
       "    }\n",
       "\n",
       "    .dataframe tbody tr th {\n",
       "        vertical-align: top;\n",
       "    }\n",
       "\n",
       "    .dataframe thead th {\n",
       "        text-align: right;\n",
       "    }\n",
       "</style>\n",
       "<table border=\"1\" class=\"dataframe\">\n",
       "  <thead>\n",
       "    <tr style=\"text-align: right;\">\n",
       "      <th></th>\n",
       "      <th>swell energy</th>\n",
       "      <th>wind speed</th>\n",
       "      <th>wawes height</th>\n",
       "      <th>high/low tide</th>\n",
       "      <th>periods</th>\n",
       "      <th>temperature</th>\n",
       "      <th>surfing raiting</th>\n",
       "    </tr>\n",
       "  </thead>\n",
       "  <tbody>\n",
       "    <tr>\n",
       "      <th>0</th>\n",
       "      <td>3856</td>\n",
       "      <td>69</td>\n",
       "      <td>10</td>\n",
       "      <td>1</td>\n",
       "      <td>12</td>\n",
       "      <td>24</td>\n",
       "      <td>3.192768</td>\n",
       "    </tr>\n",
       "    <tr>\n",
       "      <th>1</th>\n",
       "      <td>2524</td>\n",
       "      <td>24</td>\n",
       "      <td>2</td>\n",
       "      <td>1</td>\n",
       "      <td>18</td>\n",
       "      <td>20</td>\n",
       "      <td>0.218074</td>\n",
       "    </tr>\n",
       "    <tr>\n",
       "      <th>2</th>\n",
       "      <td>1693</td>\n",
       "      <td>57</td>\n",
       "      <td>1</td>\n",
       "      <td>1</td>\n",
       "      <td>18</td>\n",
       "      <td>22</td>\n",
       "      <td>0.173702</td>\n",
       "    </tr>\n",
       "    <tr>\n",
       "      <th>3</th>\n",
       "      <td>2016</td>\n",
       "      <td>133</td>\n",
       "      <td>1</td>\n",
       "      <td>2</td>\n",
       "      <td>19</td>\n",
       "      <td>32</td>\n",
       "      <td>1.018886</td>\n",
       "    </tr>\n",
       "    <tr>\n",
       "      <th>4</th>\n",
       "      <td>3729</td>\n",
       "      <td>106</td>\n",
       "      <td>9</td>\n",
       "      <td>1</td>\n",
       "      <td>14</td>\n",
       "      <td>24</td>\n",
       "      <td>4.980452</td>\n",
       "    </tr>\n",
       "  </tbody>\n",
       "</table>\n",
       "</div>"
      ],
      "text/plain": [
       "   swell energy  wind speed  wawes height  high/low tide  periods  \\\n",
       "0          3856          69            10              1       12   \n",
       "1          2524          24             2              1       18   \n",
       "2          1693          57             1              1       18   \n",
       "3          2016         133             1              2       19   \n",
       "4          3729         106             9              1       14   \n",
       "\n",
       "   temperature  surfing raiting  \n",
       "0           24         3.192768  \n",
       "1           20         0.218074  \n",
       "2           22         0.173702  \n",
       "3           32         1.018886  \n",
       "4           24         4.980452  "
      ]
     },
     "execution_count": 26,
     "metadata": {},
     "output_type": "execute_result"
    }
   ],
   "source": [
    "n_samples = 500\n",
    "\n",
    "swell = np.random.choice(4000, n_samples) + 1000\n",
    "wind = np.random.choice(120, n_samples) + 15\n",
    "wawes = np.random.choice(10, n_samples) + 1\n",
    "tide = np.random.choice(2, n_samples) + 1\n",
    "periods = np.random.choice(20, n_samples) + 5\n",
    "temperature = np.random.choice(30, n_samples) + 10\n",
    "\n",
    "surfing_raiting = (swell * wind * wawes * tide * periods) / 10000000\n",
    "\n",
    "data = pd.DataFrame({'swell energy': swell, \n",
    "                     'wind speed': wind, \n",
    "                     'wawes height': wawes, \n",
    "                     'high/low tide': tide,\n",
    "                     'periods': periods,\n",
    "                     'temperature': temperature,\n",
    "                     'surfing raiting': surfing_raiting})\n",
    "data.head(5)"
   ]
  },
  {
   "cell_type": "code",
   "execution_count": 27,
   "metadata": {},
   "outputs": [
    {
     "name": "stdout",
     "output_type": "stream",
     "text": [
      "Weights: [2.12494136e-01 3.57587258e-02 1.74529126e-04]\n",
      "Bias: -3.0981025350307028\n",
      "Error: 1.6791344033912268\n"
     ]
    }
   ],
   "source": [
    "from sklearn.metrics import mean_absolute_error\n",
    "\n",
    "X = data[['periods', 'wind speed', 'temperature']]\n",
    "y = data['surfing raiting']\n",
    "reg = LinearRegression().fit(X, y)\n",
    "print('Weights: {}'.format(reg.coef_))\n",
    "print('Bias: {}'.format(reg.intercept_))\n",
    "\n",
    "pred_values = reg.predict(data[['periods', 'wind speed', 'temperature']])\n",
    "print('Error: {}'.format(mean_absolute_error(pred_values, y)))"
   ]
  },
  {
   "cell_type": "code",
   "execution_count": 28,
   "metadata": {},
   "outputs": [
    {
     "name": "stdout",
     "output_type": "stream",
     "text": [
      "Weights: [0.21248334 0.03575897]\n",
      "Bias: -3.0938107698001347\n",
      "Error: 1.679175188095207\n"
     ]
    }
   ],
   "source": [
    "from sklearn.metrics import mean_absolute_error\n",
    "\n",
    "X = data[['periods', 'wind speed']]\n",
    "y = data['surfing raiting']\n",
    "reg = LinearRegression().fit(X, y)\n",
    "print('Weights: {}'.format(reg.coef_))\n",
    "print('Bias: {}'.format(reg.intercept_))\n",
    "\n",
    "pred_values = reg.predict(data[['periods', 'wind speed']])\n",
    "print('Error: {}'.format(mean_absolute_error(pred_values, y)))"
   ]
  },
  {
   "cell_type": "code",
   "execution_count": 33,
   "metadata": {},
   "outputs": [],
   "source": [
    "data['mult'] = (swell/10000 * wind/10000 * wawes/10000 * tide/10000 * periods/10000)"
   ]
  },
  {
   "cell_type": "code",
   "execution_count": 34,
   "metadata": {},
   "outputs": [
    {
     "data": {
      "text/html": [
       "<div>\n",
       "<style scoped>\n",
       "    .dataframe tbody tr th:only-of-type {\n",
       "        vertical-align: middle;\n",
       "    }\n",
       "\n",
       "    .dataframe tbody tr th {\n",
       "        vertical-align: top;\n",
       "    }\n",
       "\n",
       "    .dataframe thead th {\n",
       "        text-align: right;\n",
       "    }\n",
       "</style>\n",
       "<table border=\"1\" class=\"dataframe\">\n",
       "  <thead>\n",
       "    <tr style=\"text-align: right;\">\n",
       "      <th></th>\n",
       "      <th>swell energy</th>\n",
       "      <th>wind speed</th>\n",
       "      <th>wawes height</th>\n",
       "      <th>high/low tide</th>\n",
       "      <th>periods</th>\n",
       "      <th>temperature</th>\n",
       "      <th>surfing raiting</th>\n",
       "      <th>mult</th>\n",
       "    </tr>\n",
       "  </thead>\n",
       "  <tbody>\n",
       "    <tr>\n",
       "      <th>0</th>\n",
       "      <td>3856</td>\n",
       "      <td>69</td>\n",
       "      <td>10</td>\n",
       "      <td>1</td>\n",
       "      <td>12</td>\n",
       "      <td>24</td>\n",
       "      <td>3.192768</td>\n",
       "      <td>3.192768e-13</td>\n",
       "    </tr>\n",
       "    <tr>\n",
       "      <th>1</th>\n",
       "      <td>2524</td>\n",
       "      <td>24</td>\n",
       "      <td>2</td>\n",
       "      <td>1</td>\n",
       "      <td>18</td>\n",
       "      <td>20</td>\n",
       "      <td>0.218074</td>\n",
       "      <td>2.180736e-14</td>\n",
       "    </tr>\n",
       "    <tr>\n",
       "      <th>2</th>\n",
       "      <td>1693</td>\n",
       "      <td>57</td>\n",
       "      <td>1</td>\n",
       "      <td>1</td>\n",
       "      <td>18</td>\n",
       "      <td>22</td>\n",
       "      <td>0.173702</td>\n",
       "      <td>1.737018e-14</td>\n",
       "    </tr>\n",
       "    <tr>\n",
       "      <th>3</th>\n",
       "      <td>2016</td>\n",
       "      <td>133</td>\n",
       "      <td>1</td>\n",
       "      <td>2</td>\n",
       "      <td>19</td>\n",
       "      <td>32</td>\n",
       "      <td>1.018886</td>\n",
       "      <td>1.018886e-13</td>\n",
       "    </tr>\n",
       "    <tr>\n",
       "      <th>4</th>\n",
       "      <td>3729</td>\n",
       "      <td>106</td>\n",
       "      <td>9</td>\n",
       "      <td>1</td>\n",
       "      <td>14</td>\n",
       "      <td>24</td>\n",
       "      <td>4.980452</td>\n",
       "      <td>4.980452e-13</td>\n",
       "    </tr>\n",
       "  </tbody>\n",
       "</table>\n",
       "</div>"
      ],
      "text/plain": [
       "   swell energy  wind speed  wawes height  high/low tide  periods  \\\n",
       "0          3856          69            10              1       12   \n",
       "1          2524          24             2              1       18   \n",
       "2          1693          57             1              1       18   \n",
       "3          2016         133             1              2       19   \n",
       "4          3729         106             9              1       14   \n",
       "\n",
       "   temperature  surfing raiting          mult  \n",
       "0           24         3.192768  3.192768e-13  \n",
       "1           20         0.218074  2.180736e-14  \n",
       "2           22         0.173702  1.737018e-14  \n",
       "3           32         1.018886  1.018886e-13  \n",
       "4           24         4.980452  4.980452e-13  "
      ]
     },
     "execution_count": 34,
     "metadata": {},
     "output_type": "execute_result"
    }
   ],
   "source": [
    "data.head()"
   ]
  },
  {
   "cell_type": "code",
   "execution_count": 35,
   "metadata": {},
   "outputs": [
    {
     "name": "stdout",
     "output_type": "stream",
     "text": [
      "Weights: [1.e+13]\n",
      "Bias: 8.881784197001252e-16\n",
      "Error: 8.222311720373909e-16\n"
     ]
    }
   ],
   "source": [
    "from sklearn.metrics import mean_absolute_error\n",
    "\n",
    "X = data[['mult']]\n",
    "y = data['surfing raiting']\n",
    "reg = LinearRegression().fit(X, y)\n",
    "print('Weights: {}'.format(reg.coef_))\n",
    "print('Bias: {}'.format(reg.intercept_))\n",
    "\n",
    "pred_values = reg.predict(data[['mult']])\n",
    "print('Error: {}'.format(mean_absolute_error(pred_values, y)))"
   ]
  }
 ],
 "metadata": {
  "kernelspec": {
   "display_name": "Python 3",
   "language": "python",
   "name": "python3"
  },
  "language_info": {
   "codemirror_mode": {
    "name": "ipython",
    "version": 3
   },
   "file_extension": ".py",
   "mimetype": "text/x-python",
   "name": "python",
   "nbconvert_exporter": "python",
   "pygments_lexer": "ipython3",
   "version": "3.7.4"
  }
 },
 "nbformat": 4,
 "nbformat_minor": 1
}
