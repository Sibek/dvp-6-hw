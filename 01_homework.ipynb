{
 "cells": [
  {
   "cell_type": "code",
   "execution_count": 1,
   "metadata": {},
   "outputs": [],
   "source": [
    "import numpy as np\n",
    "import pandas as pd\n",
    "\n",
    "from sklearn.linear_model import LinearRegression"
   ]
  },
  {
   "cell_type": "code",
   "execution_count": 2,
   "metadata": {
    "scrolled": true
   },
   "outputs": [
    {
     "data": {
      "text/html": [
       "<div>\n",
       "<style scoped>\n",
       "    .dataframe tbody tr th:only-of-type {\n",
       "        vertical-align: middle;\n",
       "    }\n",
       "\n",
       "    .dataframe tbody tr th {\n",
       "        vertical-align: top;\n",
       "    }\n",
       "\n",
       "    .dataframe thead th {\n",
       "        text-align: right;\n",
       "    }\n",
       "</style>\n",
       "<table border=\"1\" class=\"dataframe\">\n",
       "  <thead>\n",
       "    <tr style=\"text-align: right;\">\n",
       "      <th></th>\n",
       "      <th>swell energy</th>\n",
       "      <th>wind speed</th>\n",
       "      <th>wawes height</th>\n",
       "      <th>high/low tide</th>\n",
       "      <th>periods</th>\n",
       "      <th>temperature</th>\n",
       "      <th>surfing raiting</th>\n",
       "    </tr>\n",
       "  </thead>\n",
       "  <tbody>\n",
       "    <tr>\n",
       "      <th>0</th>\n",
       "      <td>4285</td>\n",
       "      <td>47</td>\n",
       "      <td>1</td>\n",
       "      <td>2</td>\n",
       "      <td>21</td>\n",
       "      <td>20</td>\n",
       "      <td>0.845859</td>\n",
       "    </tr>\n",
       "    <tr>\n",
       "      <th>1</th>\n",
       "      <td>1541</td>\n",
       "      <td>36</td>\n",
       "      <td>10</td>\n",
       "      <td>2</td>\n",
       "      <td>22</td>\n",
       "      <td>17</td>\n",
       "      <td>2.440944</td>\n",
       "    </tr>\n",
       "    <tr>\n",
       "      <th>2</th>\n",
       "      <td>2382</td>\n",
       "      <td>108</td>\n",
       "      <td>8</td>\n",
       "      <td>2</td>\n",
       "      <td>6</td>\n",
       "      <td>20</td>\n",
       "      <td>2.469658</td>\n",
       "    </tr>\n",
       "    <tr>\n",
       "      <th>3</th>\n",
       "      <td>1751</td>\n",
       "      <td>108</td>\n",
       "      <td>10</td>\n",
       "      <td>1</td>\n",
       "      <td>18</td>\n",
       "      <td>14</td>\n",
       "      <td>3.403944</td>\n",
       "    </tr>\n",
       "    <tr>\n",
       "      <th>4</th>\n",
       "      <td>2522</td>\n",
       "      <td>121</td>\n",
       "      <td>7</td>\n",
       "      <td>2</td>\n",
       "      <td>7</td>\n",
       "      <td>10</td>\n",
       "      <td>2.990588</td>\n",
       "    </tr>\n",
       "  </tbody>\n",
       "</table>\n",
       "</div>"
      ],
      "text/plain": [
       "   swell energy  wind speed  wawes height  high/low tide  periods  \\\n",
       "0          4285          47             1              2       21   \n",
       "1          1541          36            10              2       22   \n",
       "2          2382         108             8              2        6   \n",
       "3          1751         108            10              1       18   \n",
       "4          2522         121             7              2        7   \n",
       "\n",
       "   temperature  surfing raiting  \n",
       "0           20         0.845859  \n",
       "1           17         2.440944  \n",
       "2           20         2.469658  \n",
       "3           14         3.403944  \n",
       "4           10         2.990588  "
      ]
     },
     "execution_count": 2,
     "metadata": {},
     "output_type": "execute_result"
    }
   ],
   "source": [
    "n_samples = 500\n",
    "\n",
    "swell = np.random.choice(4000, n_samples) + 1000\n",
    "wind = np.random.choice(120, n_samples) + 15\n",
    "wawes = np.random.choice(10, n_samples) + 1\n",
    "tide = np.random.choice(2, n_samples) + 1\n",
    "periods = np.random.choice(20, n_samples) + 5\n",
    "temperature = np.random.choice(30, n_samples) + 10\n",
    "\n",
    "surfing_raiting = (swell * wind * wawes * tide * periods) / 10000000\n",
    "\n",
    "data = pd.DataFrame({'swell energy': swell, \n",
    "                     'wind speed': wind, \n",
    "                     'wawes height': wawes, \n",
    "                     'high/low tide': tide,\n",
    "                     'periods': periods,\n",
    "                     'temperature': temperature,\n",
    "                     'surfing raiting': surfing_raiting})\n",
    "data.head(5)"
   ]
  },
  {
   "cell_type": "code",
   "execution_count": 3,
   "metadata": {},
   "outputs": [
    {
     "name": "stdout",
     "output_type": "stream",
     "text": [
      "Weights: [0.20383463 0.03918629 0.00643398]\n",
      "Bias: -3.2876888260055943\n",
      "Error: 1.8184660695863026\n"
     ]
    }
   ],
   "source": [
    "from sklearn.metrics import mean_absolute_error\n",
    "\n",
    "X = data[['periods', 'wind speed', 'temperature']]\n",
    "y = data['surfing raiting']\n",
    "reg = LinearRegression().fit(X, y)\n",
    "print('Weights: {}'.format(reg.coef_))\n",
    "print('Bias: {}'.format(reg.intercept_))\n",
    "\n",
    "pred_values = reg.predict(data[['periods', 'wind speed', 'temperature']])\n",
    "print('Error: {}'.format(mean_absolute_error(pred_values, y)))"
   ]
  },
  {
   "cell_type": "code",
   "execution_count": 4,
   "metadata": {},
   "outputs": [
    {
     "name": "stdout",
     "output_type": "stream",
     "text": [
      "Weights: [0.203947   0.03919059]\n",
      "Bias: -3.1311020041176767\n",
      "Error: 1.8175190129579946\n"
     ]
    }
   ],
   "source": [
    "from sklearn.metrics import mean_absolute_error\n",
    "\n",
    "X = data[['periods', 'wind speed']]\n",
    "y = data['surfing raiting']\n",
    "reg = LinearRegression().fit(X, y)\n",
    "print('Weights: {}'.format(reg.coef_))\n",
    "print('Bias: {}'.format(reg.intercept_))\n",
    "\n",
    "pred_values = reg.predict(data[['periods', 'wind speed']])\n",
    "print('Error: {}'.format(mean_absolute_error(pred_values, y)))"
   ]
  },
  {
   "cell_type": "code",
   "execution_count": 5,
   "metadata": {},
   "outputs": [],
   "source": [
    "data['mult'] = (swell/10000 * wind/10000 * wawes/10000 * tide/10000 * periods/10000)"
   ]
  },
  {
   "cell_type": "code",
   "execution_count": 6,
   "metadata": {},
   "outputs": [
    {
     "data": {
      "text/html": [
       "<div>\n",
       "<style scoped>\n",
       "    .dataframe tbody tr th:only-of-type {\n",
       "        vertical-align: middle;\n",
       "    }\n",
       "\n",
       "    .dataframe tbody tr th {\n",
       "        vertical-align: top;\n",
       "    }\n",
       "\n",
       "    .dataframe thead th {\n",
       "        text-align: right;\n",
       "    }\n",
       "</style>\n",
       "<table border=\"1\" class=\"dataframe\">\n",
       "  <thead>\n",
       "    <tr style=\"text-align: right;\">\n",
       "      <th></th>\n",
       "      <th>swell energy</th>\n",
       "      <th>wind speed</th>\n",
       "      <th>wawes height</th>\n",
       "      <th>high/low tide</th>\n",
       "      <th>periods</th>\n",
       "      <th>temperature</th>\n",
       "      <th>surfing raiting</th>\n",
       "      <th>mult</th>\n",
       "    </tr>\n",
       "  </thead>\n",
       "  <tbody>\n",
       "    <tr>\n",
       "      <th>0</th>\n",
       "      <td>4285</td>\n",
       "      <td>47</td>\n",
       "      <td>1</td>\n",
       "      <td>2</td>\n",
       "      <td>21</td>\n",
       "      <td>20</td>\n",
       "      <td>0.845859</td>\n",
       "      <td>8.458590e-14</td>\n",
       "    </tr>\n",
       "    <tr>\n",
       "      <th>1</th>\n",
       "      <td>1541</td>\n",
       "      <td>36</td>\n",
       "      <td>10</td>\n",
       "      <td>2</td>\n",
       "      <td>22</td>\n",
       "      <td>17</td>\n",
       "      <td>2.440944</td>\n",
       "      <td>2.440944e-13</td>\n",
       "    </tr>\n",
       "    <tr>\n",
       "      <th>2</th>\n",
       "      <td>2382</td>\n",
       "      <td>108</td>\n",
       "      <td>8</td>\n",
       "      <td>2</td>\n",
       "      <td>6</td>\n",
       "      <td>20</td>\n",
       "      <td>2.469658</td>\n",
       "      <td>2.469658e-13</td>\n",
       "    </tr>\n",
       "    <tr>\n",
       "      <th>3</th>\n",
       "      <td>1751</td>\n",
       "      <td>108</td>\n",
       "      <td>10</td>\n",
       "      <td>1</td>\n",
       "      <td>18</td>\n",
       "      <td>14</td>\n",
       "      <td>3.403944</td>\n",
       "      <td>3.403944e-13</td>\n",
       "    </tr>\n",
       "    <tr>\n",
       "      <th>4</th>\n",
       "      <td>2522</td>\n",
       "      <td>121</td>\n",
       "      <td>7</td>\n",
       "      <td>2</td>\n",
       "      <td>7</td>\n",
       "      <td>10</td>\n",
       "      <td>2.990588</td>\n",
       "      <td>2.990588e-13</td>\n",
       "    </tr>\n",
       "  </tbody>\n",
       "</table>\n",
       "</div>"
      ],
      "text/plain": [
       "   swell energy  wind speed  wawes height  high/low tide  periods  \\\n",
       "0          4285          47             1              2       21   \n",
       "1          1541          36            10              2       22   \n",
       "2          2382         108             8              2        6   \n",
       "3          1751         108            10              1       18   \n",
       "4          2522         121             7              2        7   \n",
       "\n",
       "   temperature  surfing raiting          mult  \n",
       "0           20         0.845859  8.458590e-14  \n",
       "1           17         2.440944  2.440944e-13  \n",
       "2           20         2.469658  2.469658e-13  \n",
       "3           14         3.403944  3.403944e-13  \n",
       "4           10         2.990588  2.990588e-13  "
      ]
     },
     "execution_count": 6,
     "metadata": {},
     "output_type": "execute_result"
    }
   ],
   "source": [
    "data.head()"
   ]
  },
  {
   "cell_type": "code",
   "execution_count": 7,
   "metadata": {},
   "outputs": [
    {
     "name": "stdout",
     "output_type": "stream",
     "text": [
      "Weights: [1.e+13]\n",
      "Bias: 1.3322676295501878e-15\n",
      "Error: 1.0227374502846942e-15\n"
     ]
    }
   ],
   "source": [
    "from sklearn.metrics import mean_absolute_error\n",
    "\n",
    "X = data[['mult']]\n",
    "y = data['surfing raiting']\n",
    "reg = LinearRegression().fit(X, y)\n",
    "print('Weights: {}'.format(reg.coef_))\n",
    "print('Bias: {}'.format(reg.intercept_))\n",
    "\n",
    "pred_values = reg.predict(data[['mult']])\n",
    "print('Error: {}'.format(mean_absolute_error(pred_values, y)))"
   ]
  }
 ],
 "metadata": {
  "kernelspec": {
   "display_name": "Python 3",
   "language": "python",
   "name": "python3"
  },
  "language_info": {
   "codemirror_mode": {
    "name": "ipython",
    "version": 3
   },
   "file_extension": ".py",
   "mimetype": "text/x-python",
   "name": "python",
   "nbconvert_exporter": "python",
   "pygments_lexer": "ipython3",
   "version": "3.7.4"
  }
 },
 "nbformat": 4,
 "nbformat_minor": 1
}
